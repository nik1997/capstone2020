{
  "nbformat": 4,
  "nbformat_minor": 0,
  "metadata": {
    "colab": {
      "name": "CAPSTONE_Data_Cleaning.ipynb",
      "provenance": [],
      "collapsed_sections": [
        "nG9KVRUFG1gx"
      ]
    },
    "kernelspec": {
      "name": "python3",
      "display_name": "Python 3"
    }
  },
  "cells": [
    {
      "cell_type": "code",
      "metadata": {
        "id": "8ZsaLHu2Rqx1",
        "colab_type": "code",
        "outputId": "f8b35bda-337f-43bc-b5aa-6ddaed1f572f",
        "colab": {
          "base_uri": "https://localhost:8080/",
          "height": 343
        }
      },
      "source": [
        "!pip install MonthDelta\n",
        "!pip install nepali_date"
      ],
      "execution_count": 0,
      "outputs": [
        {
          "output_type": "stream",
          "text": [
            "Collecting MonthDelta\n",
            "  Downloading https://files.pythonhosted.org/packages/d2/82/9043e804fc40e8f96aae7c067244cdf5d8e3eb28748c9d3655e7e0231371/MonthDelta-0.9.1.tar.gz\n",
            "Building wheels for collected packages: MonthDelta\n",
            "  Building wheel for MonthDelta (setup.py) ... \u001b[?25l\u001b[?25hdone\n",
            "  Created wheel for MonthDelta: filename=MonthDelta-0.9.1-cp36-none-any.whl size=3111 sha256=bd0952131d074fdf65d5163c6863aa3216aa83a66fc51d64dc98a2c63c3472cc\n",
            "  Stored in directory: /root/.cache/pip/wheels/5e/e9/68/c0cb0cefe6fdd49ce42a99196b272748d2d823c18c7af612cf\n",
            "Successfully built MonthDelta\n",
            "Installing collected packages: MonthDelta\n",
            "Successfully installed MonthDelta-0.9.1\n",
            "Collecting nepali_date\n",
            "  Downloading https://files.pythonhosted.org/packages/ad/d4/8cbcd0887490416497dce564d66455f1032617eb0bf5f88b88a4e255c82e/nepali-date-2.0.2.tar.gz\n",
            "Building wheels for collected packages: nepali-date\n",
            "  Building wheel for nepali-date (setup.py) ... \u001b[?25l\u001b[?25hdone\n",
            "  Created wheel for nepali-date: filename=nepali_date-2.0.2-cp36-none-any.whl size=9556 sha256=807fd0cd6a52daa504734c52c1d63ceca331542b9a85efb6eeaf17442399868d\n",
            "  Stored in directory: /root/.cache/pip/wheels/97/8a/f8/8a55c78dab59306c788110e5e3addd967e5b1d710e144be403\n",
            "Successfully built nepali-date\n",
            "Installing collected packages: nepali-date\n",
            "Successfully installed nepali-date-2.0.2\n"
          ],
          "name": "stdout"
        }
      ]
    },
    {
      "cell_type": "code",
      "metadata": {
        "id": "0jdzXGTdEKHQ",
        "colab_type": "code",
        "colab": {}
      },
      "source": [
        "import pandas as pd\n",
        "import numpy as np\n",
        "import matplotlib.pyplot as plt\n",
        "from sklearn.linear_model import LinearRegression\n",
        "import string\n",
        "import statsmodels.api as sm\n",
        "import statsmodels.formula.api as smf\n",
        "from scipy.stats import norm\n",
        "import datetime\n",
        "from dateutil.relativedelta import relativedelta\n",
        "from monthdelta import monthdelta\n",
        "from nepali_date import NepaliDate"
      ],
      "execution_count": 0,
      "outputs": []
    },
    {
      "cell_type": "markdown",
      "metadata": {
        "id": "iPQ6z-vTPQ63",
        "colab_type": "text"
      },
      "source": [
        "## NEPSE data creating monthly data"
      ]
    },
    {
      "cell_type": "code",
      "metadata": {
        "id": "OD_IL6HYHj4m",
        "colab_type": "code",
        "outputId": "9ebef186-d841-4c87-dba6-ba7c52aaef9c",
        "colab": {
          "base_uri": "https://localhost:8080/",
          "height": 204
        }
      },
      "source": [
        "url_nepse = 'https://github.com/nik1997/capstone2020/raw/master/data/nepse_index.csv'\n",
        "df_nepse = pd.read_csv(url_nepse, skip_blank_lines=True, header=0)\n",
        "\n",
        "# Converting date time\n",
        "df_nepse['Date'] = pd.to_datetime(df_nepse['Date'])\n",
        "df_nepse = df_nepse.sort_values(by='Date', ascending=True)\n",
        "df_nepse = df_nepse.drop(columns=['S.N'], axis=1)\n",
        "df_nepse.reset_index(inplace=True)\n",
        "df_nepse = df_nepse.drop(columns=['index'], axis=1)\n",
        "df_nepse.head()"
      ],
      "execution_count": 0,
      "outputs": [
        {
          "output_type": "execute_result",
          "data": {
            "text/html": [
              "<div>\n",
              "<style scoped>\n",
              "    .dataframe tbody tr th:only-of-type {\n",
              "        vertical-align: middle;\n",
              "    }\n",
              "\n",
              "    .dataframe tbody tr th {\n",
              "        vertical-align: top;\n",
              "    }\n",
              "\n",
              "    .dataframe thead th {\n",
              "        text-align: right;\n",
              "    }\n",
              "</style>\n",
              "<table border=\"1\" class=\"dataframe\">\n",
              "  <thead>\n",
              "    <tr style=\"text-align: right;\">\n",
              "      <th></th>\n",
              "      <th>Date</th>\n",
              "      <th>Open</th>\n",
              "      <th>High</th>\n",
              "      <th>Low</th>\n",
              "      <th>Close</th>\n",
              "      <th>Absolute</th>\n",
              "      <th>Percentage</th>\n",
              "      <th>Volume</th>\n",
              "      <th>Trunover</th>\n",
              "    </tr>\n",
              "  </thead>\n",
              "  <tbody>\n",
              "    <tr>\n",
              "      <th>0</th>\n",
              "      <td>1997-07-20</td>\n",
              "      <td>173.26</td>\n",
              "      <td>173.26</td>\n",
              "      <td>173.26</td>\n",
              "      <td>173.26</td>\n",
              "      <td>173.26</td>\n",
              "      <td>100%</td>\n",
              "      <td>173</td>\n",
              "      <td>NaN</td>\n",
              "    </tr>\n",
              "    <tr>\n",
              "      <th>1</th>\n",
              "      <td>1997-07-21</td>\n",
              "      <td>173.25</td>\n",
              "      <td>173.25</td>\n",
              "      <td>173.25</td>\n",
              "      <td>173.25</td>\n",
              "      <td>-0.01</td>\n",
              "      <td>0.006%</td>\n",
              "      <td>173</td>\n",
              "      <td>NaN</td>\n",
              "    </tr>\n",
              "    <tr>\n",
              "      <th>2</th>\n",
              "      <td>1997-07-22</td>\n",
              "      <td>173.03</td>\n",
              "      <td>173.03</td>\n",
              "      <td>173.03</td>\n",
              "      <td>173.03</td>\n",
              "      <td>-0.22</td>\n",
              "      <td>0.127%</td>\n",
              "      <td>173</td>\n",
              "      <td>NaN</td>\n",
              "    </tr>\n",
              "    <tr>\n",
              "      <th>3</th>\n",
              "      <td>1997-07-23</td>\n",
              "      <td>172.68</td>\n",
              "      <td>172.68</td>\n",
              "      <td>172.68</td>\n",
              "      <td>172.68</td>\n",
              "      <td>-0.35</td>\n",
              "      <td>0.203%</td>\n",
              "      <td>173</td>\n",
              "      <td>NaN</td>\n",
              "    </tr>\n",
              "    <tr>\n",
              "      <th>4</th>\n",
              "      <td>1997-07-24</td>\n",
              "      <td>172.66</td>\n",
              "      <td>172.66</td>\n",
              "      <td>172.66</td>\n",
              "      <td>172.66</td>\n",
              "      <td>-0.02</td>\n",
              "      <td>0.012%</td>\n",
              "      <td>173</td>\n",
              "      <td>NaN</td>\n",
              "    </tr>\n",
              "  </tbody>\n",
              "</table>\n",
              "</div>"
            ],
            "text/plain": [
              "        Date    Open    High     Low  ...  Absolute  Percentage Volume  Trunover\n",
              "0 1997-07-20  173.26  173.26  173.26  ...    173.26        100%    173       NaN\n",
              "1 1997-07-21  173.25  173.25  173.25  ...     -0.01      0.006%    173       NaN\n",
              "2 1997-07-22  173.03  173.03  173.03  ...     -0.22      0.127%    173       NaN\n",
              "3 1997-07-23  172.68  172.68  172.68  ...     -0.35      0.203%    173       NaN\n",
              "4 1997-07-24  172.66  172.66  172.66  ...     -0.02      0.012%    173       NaN\n",
              "\n",
              "[5 rows x 9 columns]"
            ]
          },
          "metadata": {
            "tags": []
          },
          "execution_count": 184
        }
      ]
    },
    {
      "cell_type": "code",
      "metadata": {
        "id": "9hknVvcsqMV8",
        "colab_type": "code",
        "outputId": "59935ae3-ceff-4a78-c213-200e286d1013",
        "colab": {
          "base_uri": "https://localhost:8080/",
          "height": 309
        }
      },
      "source": [
        "def get_year(date):\n",
        "    return date.year\n",
        "def get_month(date):\n",
        "    return date.month\n",
        "\n",
        "df_nepse['year'] = df_nepse['Date'].apply(get_year)\n",
        "df_nepse['month'] = df_nepse['Date'].apply(get_month)\n",
        "df_nepse['Absolute'][0] = 0 \n",
        "df_nepse.head()"
      ],
      "execution_count": 0,
      "outputs": [
        {
          "output_type": "stream",
          "text": [
            "/usr/local/lib/python3.6/dist-packages/ipykernel_launcher.py:8: SettingWithCopyWarning: \n",
            "A value is trying to be set on a copy of a slice from a DataFrame\n",
            "\n",
            "See the caveats in the documentation: http://pandas.pydata.org/pandas-docs/stable/user_guide/indexing.html#returning-a-view-versus-a-copy\n",
            "  \n"
          ],
          "name": "stderr"
        },
        {
          "output_type": "execute_result",
          "data": {
            "text/html": [
              "<div>\n",
              "<style scoped>\n",
              "    .dataframe tbody tr th:only-of-type {\n",
              "        vertical-align: middle;\n",
              "    }\n",
              "\n",
              "    .dataframe tbody tr th {\n",
              "        vertical-align: top;\n",
              "    }\n",
              "\n",
              "    .dataframe thead th {\n",
              "        text-align: right;\n",
              "    }\n",
              "</style>\n",
              "<table border=\"1\" class=\"dataframe\">\n",
              "  <thead>\n",
              "    <tr style=\"text-align: right;\">\n",
              "      <th></th>\n",
              "      <th>Date</th>\n",
              "      <th>Open</th>\n",
              "      <th>High</th>\n",
              "      <th>Low</th>\n",
              "      <th>Close</th>\n",
              "      <th>Absolute</th>\n",
              "      <th>Percentage</th>\n",
              "      <th>Volume</th>\n",
              "      <th>Trunover</th>\n",
              "      <th>year</th>\n",
              "      <th>month</th>\n",
              "    </tr>\n",
              "  </thead>\n",
              "  <tbody>\n",
              "    <tr>\n",
              "      <th>0</th>\n",
              "      <td>1997-07-20</td>\n",
              "      <td>173.26</td>\n",
              "      <td>173.26</td>\n",
              "      <td>173.26</td>\n",
              "      <td>173.26</td>\n",
              "      <td>0.00</td>\n",
              "      <td>100%</td>\n",
              "      <td>173</td>\n",
              "      <td>NaN</td>\n",
              "      <td>1997</td>\n",
              "      <td>7</td>\n",
              "    </tr>\n",
              "    <tr>\n",
              "      <th>1</th>\n",
              "      <td>1997-07-21</td>\n",
              "      <td>173.25</td>\n",
              "      <td>173.25</td>\n",
              "      <td>173.25</td>\n",
              "      <td>173.25</td>\n",
              "      <td>-0.01</td>\n",
              "      <td>0.006%</td>\n",
              "      <td>173</td>\n",
              "      <td>NaN</td>\n",
              "      <td>1997</td>\n",
              "      <td>7</td>\n",
              "    </tr>\n",
              "    <tr>\n",
              "      <th>2</th>\n",
              "      <td>1997-07-22</td>\n",
              "      <td>173.03</td>\n",
              "      <td>173.03</td>\n",
              "      <td>173.03</td>\n",
              "      <td>173.03</td>\n",
              "      <td>-0.22</td>\n",
              "      <td>0.127%</td>\n",
              "      <td>173</td>\n",
              "      <td>NaN</td>\n",
              "      <td>1997</td>\n",
              "      <td>7</td>\n",
              "    </tr>\n",
              "    <tr>\n",
              "      <th>3</th>\n",
              "      <td>1997-07-23</td>\n",
              "      <td>172.68</td>\n",
              "      <td>172.68</td>\n",
              "      <td>172.68</td>\n",
              "      <td>172.68</td>\n",
              "      <td>-0.35</td>\n",
              "      <td>0.203%</td>\n",
              "      <td>173</td>\n",
              "      <td>NaN</td>\n",
              "      <td>1997</td>\n",
              "      <td>7</td>\n",
              "    </tr>\n",
              "    <tr>\n",
              "      <th>4</th>\n",
              "      <td>1997-07-24</td>\n",
              "      <td>172.66</td>\n",
              "      <td>172.66</td>\n",
              "      <td>172.66</td>\n",
              "      <td>172.66</td>\n",
              "      <td>-0.02</td>\n",
              "      <td>0.012%</td>\n",
              "      <td>173</td>\n",
              "      <td>NaN</td>\n",
              "      <td>1997</td>\n",
              "      <td>7</td>\n",
              "    </tr>\n",
              "  </tbody>\n",
              "</table>\n",
              "</div>"
            ],
            "text/plain": [
              "        Date    Open    High     Low  ...  Volume  Trunover  year  month\n",
              "0 1997-07-20  173.26  173.26  173.26  ...     173       NaN  1997      7\n",
              "1 1997-07-21  173.25  173.25  173.25  ...     173       NaN  1997      7\n",
              "2 1997-07-22  173.03  173.03  173.03  ...     173       NaN  1997      7\n",
              "3 1997-07-23  172.68  172.68  172.68  ...     173       NaN  1997      7\n",
              "4 1997-07-24  172.66  172.66  172.66  ...     173       NaN  1997      7\n",
              "\n",
              "[5 rows x 11 columns]"
            ]
          },
          "metadata": {
            "tags": []
          },
          "execution_count": 185
        }
      ]
    },
    {
      "cell_type": "code",
      "metadata": {
        "id": "KqSDRdghv6-J",
        "colab_type": "code",
        "outputId": "b39b1dc4-89cc-4de5-9a30-61d77b61a1c9",
        "colab": {
          "base_uri": "https://localhost:8080/",
          "height": 204
        }
      },
      "source": [
        "# Calculating daily returns\n",
        "returns = [0] # for the first value\n",
        "for i in range(1, df_nepse.shape[0]):\n",
        "    returns.append((df_nepse['Close'][i] - df_nepse['Close'][i-1]) / df_nepse['Close'][i-1])\n",
        "df_nepse['returns'] = returns\n",
        "df_nepse.tail()"
      ],
      "execution_count": 0,
      "outputs": [
        {
          "output_type": "execute_result",
          "data": {
            "text/html": [
              "<div>\n",
              "<style scoped>\n",
              "    .dataframe tbody tr th:only-of-type {\n",
              "        vertical-align: middle;\n",
              "    }\n",
              "\n",
              "    .dataframe tbody tr th {\n",
              "        vertical-align: top;\n",
              "    }\n",
              "\n",
              "    .dataframe thead th {\n",
              "        text-align: right;\n",
              "    }\n",
              "</style>\n",
              "<table border=\"1\" class=\"dataframe\">\n",
              "  <thead>\n",
              "    <tr style=\"text-align: right;\">\n",
              "      <th></th>\n",
              "      <th>Date</th>\n",
              "      <th>Open</th>\n",
              "      <th>High</th>\n",
              "      <th>Low</th>\n",
              "      <th>Close</th>\n",
              "      <th>Absolute</th>\n",
              "      <th>Percentage</th>\n",
              "      <th>Volume</th>\n",
              "      <th>Trunover</th>\n",
              "      <th>year</th>\n",
              "      <th>month</th>\n",
              "      <th>returns</th>\n",
              "    </tr>\n",
              "  </thead>\n",
              "  <tbody>\n",
              "    <tr>\n",
              "      <th>5168</th>\n",
              "      <td>2019-12-02</td>\n",
              "      <td>1112.87</td>\n",
              "      <td>1113.73</td>\n",
              "      <td>1110.98</td>\n",
              "      <td>1111.99</td>\n",
              "      <td>0.86</td>\n",
              "      <td>-0.08%</td>\n",
              "      <td>826368</td>\n",
              "      <td>232259331.0</td>\n",
              "      <td>2019</td>\n",
              "      <td>12</td>\n",
              "      <td>-0.000773</td>\n",
              "    </tr>\n",
              "    <tr>\n",
              "      <th>5169</th>\n",
              "      <td>2019-12-03</td>\n",
              "      <td>1112.06</td>\n",
              "      <td>1117.82</td>\n",
              "      <td>1111.19</td>\n",
              "      <td>1115.74</td>\n",
              "      <td>3.75</td>\n",
              "      <td>0.34  %</td>\n",
              "      <td>1010991</td>\n",
              "      <td>266801558.0</td>\n",
              "      <td>2019</td>\n",
              "      <td>12</td>\n",
              "      <td>0.003372</td>\n",
              "    </tr>\n",
              "    <tr>\n",
              "      <th>5170</th>\n",
              "      <td>2019-12-04</td>\n",
              "      <td>1116.12</td>\n",
              "      <td>1128.00</td>\n",
              "      <td>1116.12</td>\n",
              "      <td>1124.47</td>\n",
              "      <td>8.73</td>\n",
              "      <td>0.78  %</td>\n",
              "      <td>990274</td>\n",
              "      <td>308214465.0</td>\n",
              "      <td>2019</td>\n",
              "      <td>12</td>\n",
              "      <td>0.007824</td>\n",
              "    </tr>\n",
              "    <tr>\n",
              "      <th>5171</th>\n",
              "      <td>2019-12-05</td>\n",
              "      <td>1124.47</td>\n",
              "      <td>1134.93</td>\n",
              "      <td>1124.44</td>\n",
              "      <td>1131.92</td>\n",
              "      <td>7.45</td>\n",
              "      <td>0.66  %</td>\n",
              "      <td>1095188</td>\n",
              "      <td>358839860.0</td>\n",
              "      <td>2019</td>\n",
              "      <td>12</td>\n",
              "      <td>0.006625</td>\n",
              "    </tr>\n",
              "    <tr>\n",
              "      <th>5172</th>\n",
              "      <td>2019-12-08</td>\n",
              "      <td>1131.92</td>\n",
              "      <td>1135.37</td>\n",
              "      <td>1125.81</td>\n",
              "      <td>1135.37</td>\n",
              "      <td>3.45</td>\n",
              "      <td>0.31  %</td>\n",
              "      <td>987739</td>\n",
              "      <td>287527825.0</td>\n",
              "      <td>2019</td>\n",
              "      <td>12</td>\n",
              "      <td>0.003048</td>\n",
              "    </tr>\n",
              "  </tbody>\n",
              "</table>\n",
              "</div>"
            ],
            "text/plain": [
              "           Date     Open     High      Low  ...     Trunover  year month   returns\n",
              "5168 2019-12-02  1112.87  1113.73  1110.98  ...  232259331.0  2019    12 -0.000773\n",
              "5169 2019-12-03  1112.06  1117.82  1111.19  ...  266801558.0  2019    12  0.003372\n",
              "5170 2019-12-04  1116.12  1128.00  1116.12  ...  308214465.0  2019    12  0.007824\n",
              "5171 2019-12-05  1124.47  1134.93  1124.44  ...  358839860.0  2019    12  0.006625\n",
              "5172 2019-12-08  1131.92  1135.37  1125.81  ...  287527825.0  2019    12  0.003048\n",
              "\n",
              "[5 rows x 12 columns]"
            ]
          },
          "metadata": {
            "tags": []
          },
          "execution_count": 186
        }
      ]
    },
    {
      "cell_type": "code",
      "metadata": {
        "id": "kAR66Lw4qk3D",
        "colab_type": "code",
        "colab": {}
      },
      "source": [
        "unique_months = df_nepse.groupby(['year','month'], as_index=False).size().reset_index().rename(columns={0:'count'})"
      ],
      "execution_count": 0,
      "outputs": []
    },
    {
      "cell_type": "code",
      "metadata": {
        "id": "eX3eP5vktmBz",
        "colab_type": "code",
        "outputId": "add88198-d3de-4381-adc3-9b6b5f270909",
        "colab": {
          "base_uri": "https://localhost:8080/",
          "height": 204
        }
      },
      "source": [
        "def get_monthly_data(year, month):\n",
        "    df_month = df_nepse.loc[(df_nepse['year']==year) & (df_nepse['month']==month)]\n",
        "    return df_month['Date'].iloc[-1], df_month['Close'].iloc[-1], np.sum(np.square(df_month['returns']))\n",
        "\n",
        "dates = []\n",
        "nepse_indexes = []\n",
        "nepse_returns = [0]\n",
        "s_vars = []\n",
        "\n",
        "for i in range(unique_months.shape[0]):\n",
        "    date, nepse_index, s_var  = get_monthly_data(unique_months.iloc[i].year, unique_months.iloc[i].month)\n",
        "    dates.append(date)\n",
        "    nepse_indexes.append(nepse_index)\n",
        "    s_vars.append(s_var)\n",
        "\n",
        "# calculating monthly retruns\n",
        "for i in range(1, len(nepse_indexes)):\n",
        "    nepse_returns.append((nepse_indexes[i] - nepse_indexes[i-1]) / nepse_indexes[i-1])\n",
        "\n",
        "df_monthly_nepse = pd.DataFrame({\n",
        "    'Date': dates,\n",
        "    'NEPSE': nepse_indexes,\n",
        "    'NEPSE_returns': nepse_returns,\n",
        "    'SVAR': s_vars\n",
        "})\n",
        "\n",
        "df_monthly_nepse.head()"
      ],
      "execution_count": 0,
      "outputs": [
        {
          "output_type": "execute_result",
          "data": {
            "text/html": [
              "<div>\n",
              "<style scoped>\n",
              "    .dataframe tbody tr th:only-of-type {\n",
              "        vertical-align: middle;\n",
              "    }\n",
              "\n",
              "    .dataframe tbody tr th {\n",
              "        vertical-align: top;\n",
              "    }\n",
              "\n",
              "    .dataframe thead th {\n",
              "        text-align: right;\n",
              "    }\n",
              "</style>\n",
              "<table border=\"1\" class=\"dataframe\">\n",
              "  <thead>\n",
              "    <tr style=\"text-align: right;\">\n",
              "      <th></th>\n",
              "      <th>Date</th>\n",
              "      <th>NEPSE</th>\n",
              "      <th>NEPSE_returns</th>\n",
              "      <th>SVAR</th>\n",
              "    </tr>\n",
              "  </thead>\n",
              "  <tbody>\n",
              "    <tr>\n",
              "      <th>0</th>\n",
              "      <td>1997-07-31</td>\n",
              "      <td>171.70</td>\n",
              "      <td>0.000000</td>\n",
              "      <td>0.000040</td>\n",
              "    </tr>\n",
              "    <tr>\n",
              "      <th>1</th>\n",
              "      <td>1997-08-31</td>\n",
              "      <td>169.64</td>\n",
              "      <td>-0.011998</td>\n",
              "      <td>0.000084</td>\n",
              "    </tr>\n",
              "    <tr>\n",
              "      <th>2</th>\n",
              "      <td>1997-09-30</td>\n",
              "      <td>171.23</td>\n",
              "      <td>0.009373</td>\n",
              "      <td>0.000210</td>\n",
              "    </tr>\n",
              "    <tr>\n",
              "      <th>3</th>\n",
              "      <td>1997-10-29</td>\n",
              "      <td>173.43</td>\n",
              "      <td>0.012848</td>\n",
              "      <td>0.000398</td>\n",
              "    </tr>\n",
              "    <tr>\n",
              "      <th>4</th>\n",
              "      <td>1997-11-30</td>\n",
              "      <td>171.64</td>\n",
              "      <td>-0.010321</td>\n",
              "      <td>0.000181</td>\n",
              "    </tr>\n",
              "  </tbody>\n",
              "</table>\n",
              "</div>"
            ],
            "text/plain": [
              "        Date   NEPSE  NEPSE_returns      SVAR\n",
              "0 1997-07-31  171.70       0.000000  0.000040\n",
              "1 1997-08-31  169.64      -0.011998  0.000084\n",
              "2 1997-09-30  171.23       0.009373  0.000210\n",
              "3 1997-10-29  173.43       0.012848  0.000398\n",
              "4 1997-11-30  171.64      -0.010321  0.000181"
            ]
          },
          "metadata": {
            "tags": []
          },
          "execution_count": 188
        }
      ]
    },
    {
      "cell_type": "code",
      "metadata": {
        "id": "94g50cxbShFv",
        "colab_type": "code",
        "outputId": "67814d7a-1e14-4450-ea52-3fb8f58823f2",
        "colab": {
          "base_uri": "https://localhost:8080/",
          "height": 851
        }
      },
      "source": [
        "plt.plot(df_monthly_nepse['Date'], df_monthly_nepse['NEPSE'])\n",
        "plt.xlabel('Date')\n",
        "plt.ylabel('NEPSE Index (in NRs)')\n",
        "plt.title('NESPE Index')\n",
        "plt.show()\n",
        "\n",
        "plt.plot(df_monthly_nepse['Date'], df_monthly_nepse['SVAR'])\n",
        "plt.xlabel('Date')\n",
        "plt.ylabel('SVAR')\n",
        "plt.title('Monthly Stock variance')\n",
        "plt.show()\n",
        "\n",
        "plt.plot(df_monthly_nepse['Date'], df_monthly_nepse['NEPSE_returns'])\n",
        "plt.xlabel('Date')\n",
        "plt.ylabel('NEPSE Monthly Returns')\n",
        "plt.title('NEPSE Monthly Returns')\n",
        "plt.show()"
      ],
      "execution_count": 0,
      "outputs": [
        {
          "output_type": "display_data",
          "data": {
            "image/png": "[encoded data removed]",
            "text/plain": [
              "<Figure size 432x288 with 1 Axes>"
            ]
          },
          "metadata": {
            "tags": []
          }
        },
        {
          "output_type": "display_data",
          "data": {
            "image/png": "[encoded data removed]",
            "text/plain": [
              "<Figure size 432x288 with 1 Axes>"
            ]
          },
          "metadata": {
            "tags": []
          }
        },
        {
          "output_type": "display_data",
          "data": {
            "image/png": "[encoded data removed]",
            "text/plain": [
              "<Figure size 432x288 with 1 Axes>"
            ]
          },
          "metadata": {
            "tags": []
          }
        }
      ]
    },
    {
      "cell_type": "markdown",
      "metadata": {
        "id": "uKmRh9owZ-4S",
        "colab_type": "text"
      },
      "source": [
        "## Treasury bill yield"
      ]
    },
    {
      "cell_type": "code",
      "metadata": {
        "id": "jxUzhmOSaIln",
        "colab_type": "code",
        "outputId": "cdc88734-4767-4368-88e9-b4375ae281ea",
        "colab": {
          "base_uri": "https://localhost:8080/",
          "height": 204
        }
      },
      "source": [
        "url = 'nepal_treasury_bills_yield.csv'\n",
        "df_treasury = pd.read_csv(url, skiprows=2)\n",
        "df_treasury = df_treasury.drop(columns=['Open', 'Ticker', 'High', 'Low'])\n",
        "df_treasury.columns = ['Date', 'Treasury Bills Yield']\n",
        "df_treasury['Date'] = pd.to_datetime(df_treasury['Date'])\n",
        "df_treasury.head()"
      ],
      "execution_count": 0,
      "outputs": [
        {
          "output_type": "execute_result",
          "data": {
            "text/html": [
              "<div>\n",
              "<style scoped>\n",
              "    .dataframe tbody tr th:only-of-type {\n",
              "        vertical-align: middle;\n",
              "    }\n",
              "\n",
              "    .dataframe tbody tr th {\n",
              "        vertical-align: top;\n",
              "    }\n",
              "\n",
              "    .dataframe thead th {\n",
              "        text-align: right;\n",
              "    }\n",
              "</style>\n",
              "<table border=\"1\" class=\"dataframe\">\n",
              "  <thead>\n",
              "    <tr style=\"text-align: right;\">\n",
              "      <th></th>\n",
              "      <th>Date</th>\n",
              "      <th>Treasury Bills Yield</th>\n",
              "    </tr>\n",
              "  </thead>\n",
              "  <tbody>\n",
              "    <tr>\n",
              "      <th>0</th>\n",
              "      <td>1981-01-31</td>\n",
              "      <td>5.0</td>\n",
              "    </tr>\n",
              "    <tr>\n",
              "      <th>1</th>\n",
              "      <td>1981-02-27</td>\n",
              "      <td>5.0</td>\n",
              "    </tr>\n",
              "    <tr>\n",
              "      <th>2</th>\n",
              "      <td>1981-03-31</td>\n",
              "      <td>5.0</td>\n",
              "    </tr>\n",
              "    <tr>\n",
              "      <th>3</th>\n",
              "      <td>1981-04-30</td>\n",
              "      <td>5.0</td>\n",
              "    </tr>\n",
              "    <tr>\n",
              "      <th>4</th>\n",
              "      <td>1981-05-29</td>\n",
              "      <td>5.0</td>\n",
              "    </tr>\n",
              "  </tbody>\n",
              "</table>\n",
              "</div>"
            ],
            "text/plain": [
              "        Date  Treasury Bills Yield\n",
              "0 1981-01-31                   5.0\n",
              "1 1981-02-27                   5.0\n",
              "2 1981-03-31                   5.0\n",
              "3 1981-04-30                   5.0\n",
              "4 1981-05-29                   5.0"
            ]
          },
          "metadata": {
            "tags": []
          },
          "execution_count": 190
        }
      ]
    },
    {
      "cell_type": "code",
      "metadata": {
        "id": "SKGxAVXXcbjY",
        "colab_type": "code",
        "outputId": "65d79071-1a97-4555-b0ec-c3a8ca649f84",
        "colab": {
          "base_uri": "https://localhost:8080/",
          "height": 204
        }
      },
      "source": [
        "def get_average_monthly_yield(df, year, month):\n",
        "    df_month = df.loc[(df['year']==year) & (df['month']==month)]\n",
        "    return df_month['Date'].iloc[-1], np.mean(df_month['Treasury Bills Yield'])/100\n",
        " \n",
        "df_treasury['year'] = df_treasury['Date'].apply(get_year)\n",
        "df_treasury['month'] = df_treasury['Date'].apply(get_month)\n",
        "df_treasury.head()\n",
        "treasury_unique_months = df_treasury.groupby(['year','month'], as_index=False).size().reset_index().rename(columns={0:'count'})\n",
        "\n",
        "treasury_yields = []\n",
        "dates = []\n",
        "\n",
        "for i in range(treasury_unique_months.shape[0]):\n",
        "    date, treasury_yield  = get_average_monthly_yield(df_treasury,\n",
        "                                                        treasury_unique_months.iloc[i].year, \n",
        "                                                        treasury_unique_months.iloc[i].month)\n",
        "    dates.append(date)\n",
        "    treasury_yields.append(treasury_yield)\n",
        "\n",
        "\n",
        "df_monthly_treasury = pd.DataFrame({\n",
        "    'Date': dates,\n",
        "    'treasury_yields': treasury_yields\n",
        "})\n",
        "df_monthly_treasury.head()"
      ],
      "execution_count": 0,
      "outputs": [
        {
          "output_type": "execute_result",
          "data": {
            "text/html": [
              "<div>\n",
              "<style scoped>\n",
              "    .dataframe tbody tr th:only-of-type {\n",
              "        vertical-align: middle;\n",
              "    }\n",
              "\n",
              "    .dataframe tbody tr th {\n",
              "        vertical-align: top;\n",
              "    }\n",
              "\n",
              "    .dataframe thead th {\n",
              "        text-align: right;\n",
              "    }\n",
              "</style>\n",
              "<table border=\"1\" class=\"dataframe\">\n",
              "  <thead>\n",
              "    <tr style=\"text-align: right;\">\n",
              "      <th></th>\n",
              "      <th>Date</th>\n",
              "      <th>treasury_yields</th>\n",
              "    </tr>\n",
              "  </thead>\n",
              "  <tbody>\n",
              "    <tr>\n",
              "      <th>0</th>\n",
              "      <td>1981-01-31</td>\n",
              "      <td>0.05</td>\n",
              "    </tr>\n",
              "    <tr>\n",
              "      <th>1</th>\n",
              "      <td>1981-02-27</td>\n",
              "      <td>0.05</td>\n",
              "    </tr>\n",
              "    <tr>\n",
              "      <th>2</th>\n",
              "      <td>1981-03-31</td>\n",
              "      <td>0.05</td>\n",
              "    </tr>\n",
              "    <tr>\n",
              "      <th>3</th>\n",
              "      <td>1981-04-30</td>\n",
              "      <td>0.05</td>\n",
              "    </tr>\n",
              "    <tr>\n",
              "      <th>4</th>\n",
              "      <td>1981-05-29</td>\n",
              "      <td>0.05</td>\n",
              "    </tr>\n",
              "  </tbody>\n",
              "</table>\n",
              "</div>"
            ],
            "text/plain": [
              "        Date  treasury_yields\n",
              "0 1981-01-31             0.05\n",
              "1 1981-02-27             0.05\n",
              "2 1981-03-31             0.05\n",
              "3 1981-04-30             0.05\n",
              "4 1981-05-29             0.05"
            ]
          },
          "metadata": {
            "tags": []
          },
          "execution_count": 191
        }
      ]
    },
    {
      "cell_type": "markdown",
      "metadata": {
        "id": "MvqO5yGOen4e",
        "colab_type": "text"
      },
      "source": [
        "## Govenment bond yield"
      ]
    },
    {
      "cell_type": "code",
      "metadata": {
        "id": "0axYFcz0cA9I",
        "colab_type": "code",
        "outputId": "45becff0-f16e-45bf-ce23-217a13407d88",
        "colab": {
          "base_uri": "https://localhost:8080/",
          "height": 204
        }
      },
      "source": [
        "url = 'nepal_government_bond_yield(1981-2015).csv'\n",
        "df_gov_bond = pd.read_csv(url, skiprows=2)\n",
        "df_gov_bond = df_gov_bond.drop(columns=['Ticker'])\n",
        "df_gov_bond.columns = ['Date', 'Government Bond Yield']\n",
        "df_gov_bond['Date'] = pd.to_datetime(df_gov_bond['Date'])\n",
        "df_gov_bond.head()"
      ],
      "execution_count": 0,
      "outputs": [
        {
          "output_type": "execute_result",
          "data": {
            "text/html": [
              "<div>\n",
              "<style scoped>\n",
              "    .dataframe tbody tr th:only-of-type {\n",
              "        vertical-align: middle;\n",
              "    }\n",
              "\n",
              "    .dataframe tbody tr th {\n",
              "        vertical-align: top;\n",
              "    }\n",
              "\n",
              "    .dataframe thead th {\n",
              "        text-align: right;\n",
              "    }\n",
              "</style>\n",
              "<table border=\"1\" class=\"dataframe\">\n",
              "  <thead>\n",
              "    <tr style=\"text-align: right;\">\n",
              "      <th></th>\n",
              "      <th>Date</th>\n",
              "      <th>Government Bond Yield</th>\n",
              "    </tr>\n",
              "  </thead>\n",
              "  <tbody>\n",
              "    <tr>\n",
              "      <th>0</th>\n",
              "      <td>1981-06-30</td>\n",
              "      <td>10.0</td>\n",
              "    </tr>\n",
              "    <tr>\n",
              "      <th>1</th>\n",
              "      <td>1981-07-31</td>\n",
              "      <td>10.5</td>\n",
              "    </tr>\n",
              "    <tr>\n",
              "      <th>2</th>\n",
              "      <td>1981-08-31</td>\n",
              "      <td>10.5</td>\n",
              "    </tr>\n",
              "    <tr>\n",
              "      <th>3</th>\n",
              "      <td>1981-09-30</td>\n",
              "      <td>10.5</td>\n",
              "    </tr>\n",
              "    <tr>\n",
              "      <th>4</th>\n",
              "      <td>1981-10-30</td>\n",
              "      <td>10.5</td>\n",
              "    </tr>\n",
              "  </tbody>\n",
              "</table>\n",
              "</div>"
            ],
            "text/plain": [
              "        Date  Government Bond Yield\n",
              "0 1981-06-30                   10.0\n",
              "1 1981-07-31                   10.5\n",
              "2 1981-08-31                   10.5\n",
              "3 1981-09-30                   10.5\n",
              "4 1981-10-30                   10.5"
            ]
          },
          "metadata": {
            "tags": []
          },
          "execution_count": 192
        }
      ]
    },
    {
      "cell_type": "code",
      "metadata": {
        "id": "3aIsaViFfEkR",
        "colab_type": "code",
        "colab": {}
      },
      "source": [
        "df_gov_bond['year'] = df_gov_bond['Date'].apply(get_year)\n",
        "df_gov_bond['month'] = df_gov_bond['Date'].apply(get_month)\n",
        "df_gov_bond.head()\n",
        "gov_bond_unique_months = df_gov_bond.groupby(['year','month'], as_index=False).size().reset_index().rename(columns={0:'count'})"
      ],
      "execution_count": 0,
      "outputs": []
    },
    {
      "cell_type": "code",
      "metadata": {
        "id": "dFMG6JsNfi9E",
        "colab_type": "code",
        "outputId": "6a567d88-b0ae-40d9-a269-e2af870738a7",
        "colab": {
          "base_uri": "https://localhost:8080/",
          "height": 49
        }
      },
      "source": [
        "gov_bond_unique_months[gov_bond_unique_months['count'] > 1]\n",
        "# thus, there is already unique month value available."
      ],
      "execution_count": 0,
      "outputs": [
        {
          "output_type": "execute_result",
          "data": {
            "text/html": [
              "<div>\n",
              "<style scoped>\n",
              "    .dataframe tbody tr th:only-of-type {\n",
              "        vertical-align: middle;\n",
              "    }\n",
              "\n",
              "    .dataframe tbody tr th {\n",
              "        vertical-align: top;\n",
              "    }\n",
              "\n",
              "    .dataframe thead th {\n",
              "        text-align: right;\n",
              "    }\n",
              "</style>\n",
              "<table border=\"1\" class=\"dataframe\">\n",
              "  <thead>\n",
              "    <tr style=\"text-align: right;\">\n",
              "      <th></th>\n",
              "      <th>year</th>\n",
              "      <th>month</th>\n",
              "      <th>count</th>\n",
              "    </tr>\n",
              "  </thead>\n",
              "  <tbody>\n",
              "  </tbody>\n",
              "</table>\n",
              "</div>"
            ],
            "text/plain": [
              "Empty DataFrame\n",
              "Columns: [year, month, count]\n",
              "Index: []"
            ]
          },
          "metadata": {
            "tags": []
          },
          "execution_count": 194
        }
      ]
    },
    {
      "cell_type": "code",
      "metadata": {
        "id": "wllo1-uWbnrE",
        "colab_type": "code",
        "outputId": "f37eee0b-86e3-4db6-cf72-f0bc77a8008e",
        "colab": {
          "base_uri": "https://localhost:8080/",
          "height": 204
        }
      },
      "source": [
        "# converting to absolute values\n",
        "df_gov_bond['Government Bond Yield'] = df_gov_bond['Government Bond Yield']/100\n",
        "\n",
        "df_monthly_gov_bond = pd.DataFrame({\n",
        "    'Date': df_gov_bond['Date'],\n",
        "    'gov_bond_yield': df_gov_bond['Government Bond Yield']\n",
        "})\n",
        "df_monthly_gov_bond.head()"
      ],
      "execution_count": 0,
      "outputs": [
        {
          "output_type": "execute_result",
          "data": {
            "text/html": [
              "<div>\n",
              "<style scoped>\n",
              "    .dataframe tbody tr th:only-of-type {\n",
              "        vertical-align: middle;\n",
              "    }\n",
              "\n",
              "    .dataframe tbody tr th {\n",
              "        vertical-align: top;\n",
              "    }\n",
              "\n",
              "    .dataframe thead th {\n",
              "        text-align: right;\n",
              "    }\n",
              "</style>\n",
              "<table border=\"1\" class=\"dataframe\">\n",
              "  <thead>\n",
              "    <tr style=\"text-align: right;\">\n",
              "      <th></th>\n",
              "      <th>Date</th>\n",
              "      <th>gov_bond_yield</th>\n",
              "    </tr>\n",
              "  </thead>\n",
              "  <tbody>\n",
              "    <tr>\n",
              "      <th>0</th>\n",
              "      <td>1981-06-30</td>\n",
              "      <td>0.100</td>\n",
              "    </tr>\n",
              "    <tr>\n",
              "      <th>1</th>\n",
              "      <td>1981-07-31</td>\n",
              "      <td>0.105</td>\n",
              "    </tr>\n",
              "    <tr>\n",
              "      <th>2</th>\n",
              "      <td>1981-08-31</td>\n",
              "      <td>0.105</td>\n",
              "    </tr>\n",
              "    <tr>\n",
              "      <th>3</th>\n",
              "      <td>1981-09-30</td>\n",
              "      <td>0.105</td>\n",
              "    </tr>\n",
              "    <tr>\n",
              "      <th>4</th>\n",
              "      <td>1981-10-30</td>\n",
              "      <td>0.105</td>\n",
              "    </tr>\n",
              "  </tbody>\n",
              "</table>\n",
              "</div>"
            ],
            "text/plain": [
              "        Date  gov_bond_yield\n",
              "0 1981-06-30           0.100\n",
              "1 1981-07-31           0.105\n",
              "2 1981-08-31           0.105\n",
              "3 1981-09-30           0.105\n",
              "4 1981-10-30           0.105"
            ]
          },
          "metadata": {
            "tags": []
          },
          "execution_count": 195
        }
      ]
    },
    {
      "cell_type": "markdown",
      "metadata": {
        "id": "yGiQQ6vHgJrz",
        "colab_type": "text"
      },
      "source": [
        "## Inflation"
      ]
    },
    {
      "cell_type": "code",
      "metadata": {
        "id": "LJ-KQCIogP_q",
        "colab_type": "code",
        "outputId": "406db2f7-1c0d-4f4a-942e-c40a6b06a9be",
        "colab": {
          "base_uri": "https://localhost:8080/",
          "height": 204
        }
      },
      "source": [
        "url = 'nepal_cpi_inflation_1963-2020.csv'\n",
        "df_infl = pd.read_csv(url, skiprows=2)\n",
        "df_infl = df_infl.drop(columns=['Ticker', 'Open', 'High', 'Low'])\n",
        "df_infl.columns = ['Date', 'CPI']\n",
        "df_infl['Date'] = pd.to_datetime(df_infl['Date'])\n",
        "df_infl.head()"
      ],
      "execution_count": 0,
      "outputs": [
        {
          "output_type": "execute_result",
          "data": {
            "text/html": [
              "<div>\n",
              "<style scoped>\n",
              "    .dataframe tbody tr th:only-of-type {\n",
              "        vertical-align: middle;\n",
              "    }\n",
              "\n",
              "    .dataframe tbody tr th {\n",
              "        vertical-align: top;\n",
              "    }\n",
              "\n",
              "    .dataframe thead th {\n",
              "        text-align: right;\n",
              "    }\n",
              "</style>\n",
              "<table border=\"1\" class=\"dataframe\">\n",
              "  <thead>\n",
              "    <tr style=\"text-align: right;\">\n",
              "      <th></th>\n",
              "      <th>Date</th>\n",
              "      <th>CPI</th>\n",
              "    </tr>\n",
              "  </thead>\n",
              "  <tbody>\n",
              "    <tr>\n",
              "      <th>0</th>\n",
              "      <td>1963-07-31</td>\n",
              "      <td>1.731763</td>\n",
              "    </tr>\n",
              "    <tr>\n",
              "      <th>1</th>\n",
              "      <td>1963-08-30</td>\n",
              "      <td>1.728388</td>\n",
              "    </tr>\n",
              "    <tr>\n",
              "      <th>2</th>\n",
              "      <td>1963-09-30</td>\n",
              "      <td>1.723365</td>\n",
              "    </tr>\n",
              "    <tr>\n",
              "      <th>3</th>\n",
              "      <td>1963-10-31</td>\n",
              "      <td>1.746859</td>\n",
              "    </tr>\n",
              "    <tr>\n",
              "      <th>4</th>\n",
              "      <td>1963-11-29</td>\n",
              "      <td>1.810617</td>\n",
              "    </tr>\n",
              "  </tbody>\n",
              "</table>\n",
              "</div>"
            ],
            "text/plain": [
              "        Date       CPI\n",
              "0 1963-07-31  1.731763\n",
              "1 1963-08-30  1.728388\n",
              "2 1963-09-30  1.723365\n",
              "3 1963-10-31  1.746859\n",
              "4 1963-11-29  1.810617"
            ]
          },
          "metadata": {
            "tags": []
          },
          "execution_count": 196
        }
      ]
    },
    {
      "cell_type": "code",
      "metadata": {
        "id": "g3jY1JNNgQTw",
        "colab_type": "code",
        "outputId": "0f5bd08d-d86a-42d2-c563-ae7da1c6c8c4",
        "colab": {
          "base_uri": "https://localhost:8080/",
          "height": 49
        }
      },
      "source": [
        "df_infl['year'] = df_infl['Date'].apply(get_year)\n",
        "df_infl['month'] = df_infl['Date'].apply(get_month)\n",
        "infl_unique_months = df_infl.groupby(['year','month'], as_index=False).size().reset_index().rename(columns={0:'count'})\n",
        "infl_unique_months[infl_unique_months['count'] > 1]\n",
        "# thus, there is already unique month value available."
      ],
      "execution_count": 0,
      "outputs": [
        {
          "output_type": "execute_result",
          "data": {
            "text/html": [
              "<div>\n",
              "<style scoped>\n",
              "    .dataframe tbody tr th:only-of-type {\n",
              "        vertical-align: middle;\n",
              "    }\n",
              "\n",
              "    .dataframe tbody tr th {\n",
              "        vertical-align: top;\n",
              "    }\n",
              "\n",
              "    .dataframe thead th {\n",
              "        text-align: right;\n",
              "    }\n",
              "</style>\n",
              "<table border=\"1\" class=\"dataframe\">\n",
              "  <thead>\n",
              "    <tr style=\"text-align: right;\">\n",
              "      <th></th>\n",
              "      <th>year</th>\n",
              "      <th>month</th>\n",
              "      <th>count</th>\n",
              "    </tr>\n",
              "  </thead>\n",
              "  <tbody>\n",
              "  </tbody>\n",
              "</table>\n",
              "</div>"
            ],
            "text/plain": [
              "Empty DataFrame\n",
              "Columns: [year, month, count]\n",
              "Index: []"
            ]
          },
          "metadata": {
            "tags": []
          },
          "execution_count": 197
        }
      ]
    },
    {
      "cell_type": "code",
      "metadata": {
        "id": "yhIzplwKg7Vk",
        "colab_type": "code",
        "outputId": "d6e6aff1-41dd-441d-d80d-9f4d9c1ea751",
        "colab": {
          "base_uri": "https://localhost:8080/",
          "height": 204
        }
      },
      "source": [
        "# calculating inflation\n",
        "\n",
        "inflations = [0] + [((df_infl['CPI'].iloc[i]/df_infl['CPI'].iloc[i-1]) - 1) for i in range(1, df_infl.shape[0])]\n",
        "\n",
        "df_infl['infl'] = inflations\n",
        "\n",
        "df_monthly_inflation = pd.DataFrame({\n",
        "    'Date': df_infl['Date'],\n",
        "    'infl': df_infl['infl'] \n",
        "})\n",
        "df_monthly_inflation.head()"
      ],
      "execution_count": 0,
      "outputs": [
        {
          "output_type": "execute_result",
          "data": {
            "text/html": [
              "<div>\n",
              "<style scoped>\n",
              "    .dataframe tbody tr th:only-of-type {\n",
              "        vertical-align: middle;\n",
              "    }\n",
              "\n",
              "    .dataframe tbody tr th {\n",
              "        vertical-align: top;\n",
              "    }\n",
              "\n",
              "    .dataframe thead th {\n",
              "        text-align: right;\n",
              "    }\n",
              "</style>\n",
              "<table border=\"1\" class=\"dataframe\">\n",
              "  <thead>\n",
              "    <tr style=\"text-align: right;\">\n",
              "      <th></th>\n",
              "      <th>Date</th>\n",
              "      <th>infl</th>\n",
              "    </tr>\n",
              "  </thead>\n",
              "  <tbody>\n",
              "    <tr>\n",
              "      <th>0</th>\n",
              "      <td>1963-07-31</td>\n",
              "      <td>0.000000</td>\n",
              "    </tr>\n",
              "    <tr>\n",
              "      <th>1</th>\n",
              "      <td>1963-08-30</td>\n",
              "      <td>-0.001949</td>\n",
              "    </tr>\n",
              "    <tr>\n",
              "      <th>2</th>\n",
              "      <td>1963-09-30</td>\n",
              "      <td>-0.002906</td>\n",
              "    </tr>\n",
              "    <tr>\n",
              "      <th>3</th>\n",
              "      <td>1963-10-31</td>\n",
              "      <td>0.013633</td>\n",
              "    </tr>\n",
              "    <tr>\n",
              "      <th>4</th>\n",
              "      <td>1963-11-29</td>\n",
              "      <td>0.036499</td>\n",
              "    </tr>\n",
              "  </tbody>\n",
              "</table>\n",
              "</div>"
            ],
            "text/plain": [
              "        Date      infl\n",
              "0 1963-07-31  0.000000\n",
              "1 1963-08-30 -0.001949\n",
              "2 1963-09-30 -0.002906\n",
              "3 1963-10-31  0.013633\n",
              "4 1963-11-29  0.036499"
            ]
          },
          "metadata": {
            "tags": []
          },
          "execution_count": 198
        }
      ]
    },
    {
      "cell_type": "code",
      "metadata": {
        "id": "GZY-pWOch1dv",
        "colab_type": "code",
        "outputId": "2e54d0fb-bcc5-4211-8d4e-215d02e00a01",
        "colab": {
          "base_uri": "https://localhost:8080/",
          "height": 265
        }
      },
      "source": [
        "plt.plot(df_infl['Date'], df_infl['infl'])\n",
        "plt.show()"
      ],
      "execution_count": 0,
      "outputs": [
        {
          "output_type": "display_data",
          "data": {
            "image/png": "[encoded data removed]",
            "text/plain": [
              "<Figure size 432x288 with 1 Axes>"
            ]
          },
          "metadata": {
            "tags": []
          }
        }
      ]
    },
    {
      "cell_type": "markdown",
      "metadata": {
        "id": "p3c2fqYtkWc0",
        "colab_type": "text"
      },
      "source": [
        "## Net equity expansion"
      ]
    },
    {
      "cell_type": "code",
      "metadata": {
        "id": "0uP2VWqykXd8",
        "colab_type": "code",
        "outputId": "0f8ad1fa-7755-441e-cd34-900efe0b3b87",
        "colab": {
          "base_uri": "https://localhost:8080/",
          "height": 204
        }
      },
      "source": [
        "url = 'nepse_equity_issues.csv'\n",
        "df_ntis = pd.read_csv(url)\n",
        "df_ntis = df_ntis.drop(columns=['Unnamed: 5'])\n",
        "df_ntis.head()"
      ],
      "execution_count": 0,
      "outputs": [
        {
          "output_type": "execute_result",
          "data": {
            "text/html": [
              "<div>\n",
              "<style scoped>\n",
              "    .dataframe tbody tr th:only-of-type {\n",
              "        vertical-align: middle;\n",
              "    }\n",
              "\n",
              "    .dataframe tbody tr th {\n",
              "        vertical-align: top;\n",
              "    }\n",
              "\n",
              "    .dataframe thead th {\n",
              "        text-align: right;\n",
              "    }\n",
              "</style>\n",
              "<table border=\"1\" class=\"dataframe\">\n",
              "  <thead>\n",
              "    <tr style=\"text-align: right;\">\n",
              "      <th></th>\n",
              "      <th>Company</th>\n",
              "      <th>Type</th>\n",
              "      <th>Amount</th>\n",
              "      <th>Permission AD Date</th>\n",
              "      <th>Permission BS Date</th>\n",
              "    </tr>\n",
              "  </thead>\n",
              "  <tbody>\n",
              "    <tr>\n",
              "      <th>0</th>\n",
              "      <td>Nepal Med Ltd.</td>\n",
              "      <td>Ordinary Share</td>\n",
              "      <td>2.7</td>\n",
              "      <td>28/07/1993</td>\n",
              "      <td>NaN</td>\n",
              "    </tr>\n",
              "    <tr>\n",
              "      <th>1</th>\n",
              "      <td>NIDC Capital Markets Ltd.</td>\n",
              "      <td>Mutual Fund</td>\n",
              "      <td>100</td>\n",
              "      <td>28/07/1993</td>\n",
              "      <td>NaN</td>\n",
              "    </tr>\n",
              "    <tr>\n",
              "      <th>2</th>\n",
              "      <td>Nepal Share Markets Co. Ltd.</td>\n",
              "      <td>Ordinary Share</td>\n",
              "      <td>4</td>\n",
              "      <td>21/09/1993</td>\n",
              "      <td>NaN</td>\n",
              "    </tr>\n",
              "    <tr>\n",
              "      <th>3</th>\n",
              "      <td>Himalayan General Insurance Co. Ltd.</td>\n",
              "      <td>Ordinary Share</td>\n",
              "      <td>12</td>\n",
              "      <td>28/09/1993</td>\n",
              "      <td>NaN</td>\n",
              "    </tr>\n",
              "    <tr>\n",
              "      <th>4</th>\n",
              "      <td>Harisiddhi Brick &amp; Tiles Factory Ltd.</td>\n",
              "      <td>Ordinary Share</td>\n",
              "      <td>53.2</td>\n",
              "      <td>1993/12/12</td>\n",
              "      <td>NaN</td>\n",
              "    </tr>\n",
              "  </tbody>\n",
              "</table>\n",
              "</div>"
            ],
            "text/plain": [
              "                                 Company  ... Permission BS Date\n",
              "0                         Nepal Med Ltd.  ...                NaN\n",
              "1              NIDC Capital Markets Ltd.  ...                NaN\n",
              "2           Nepal Share Markets Co. Ltd.  ...                NaN\n",
              "3   Himalayan General Insurance Co. Ltd.  ...                NaN\n",
              "4  Harisiddhi Brick & Tiles Factory Ltd.  ...                NaN\n",
              "\n",
              "[5 rows x 5 columns]"
            ]
          },
          "metadata": {
            "tags": []
          },
          "execution_count": 134
        }
      ]
    },
    {
      "cell_type": "code",
      "metadata": {
        "id": "fLksaM-okuQo",
        "colab_type": "code",
        "colab": {}
      },
      "source": [
        "def split_dates(x):\n",
        "    return x.split(' ')[0] if ' ' in str(x) else x\n",
        "\n",
        "df_ntis['Permission AD Date'] = df_ntis['Permission AD Date'].apply(split_dates)"
      ],
      "execution_count": 0,
      "outputs": []
    },
    {
      "cell_type": "code",
      "metadata": {
        "id": "DBzO3KMznbgD",
        "colab_type": "code",
        "outputId": "adbdf2a2-b740-4e4b-8c78-188493bb7cf3",
        "colab": {
          "base_uri": "https://localhost:8080/",
          "height": 204
        }
      },
      "source": [
        "def convert_bs_to_ad(date_str):\n",
        "    if type(date_str) == str:\n",
        "        year, month, day = date_str.split('/')\n",
        "        return NepaliDate(year, month, day).to_english_date().strftime('%Y/%m/%d')\n",
        "    \n",
        "    return date_str\n",
        "\n",
        "df_ntis['Date'] = df_ntis['Permission BS Date'].apply(convert_bs_to_ad)\n",
        "df_ntis.head()"
      ],
      "execution_count": 0,
      "outputs": [
        {
          "output_type": "execute_result",
          "data": {
            "text/html": [
              "<div>\n",
              "<style scoped>\n",
              "    .dataframe tbody tr th:only-of-type {\n",
              "        vertical-align: middle;\n",
              "    }\n",
              "\n",
              "    .dataframe tbody tr th {\n",
              "        vertical-align: top;\n",
              "    }\n",
              "\n",
              "    .dataframe thead th {\n",
              "        text-align: right;\n",
              "    }\n",
              "</style>\n",
              "<table border=\"1\" class=\"dataframe\">\n",
              "  <thead>\n",
              "    <tr style=\"text-align: right;\">\n",
              "      <th></th>\n",
              "      <th>Company</th>\n",
              "      <th>Type</th>\n",
              "      <th>Amount</th>\n",
              "      <th>Permission AD Date</th>\n",
              "      <th>Permission BS Date</th>\n",
              "      <th>Date</th>\n",
              "    </tr>\n",
              "  </thead>\n",
              "  <tbody>\n",
              "    <tr>\n",
              "      <th>0</th>\n",
              "      <td>Nepal Med Ltd.</td>\n",
              "      <td>Ordinary Share</td>\n",
              "      <td>2.7</td>\n",
              "      <td>28/07/1993</td>\n",
              "      <td>NaN</td>\n",
              "      <td>NaN</td>\n",
              "    </tr>\n",
              "    <tr>\n",
              "      <th>1</th>\n",
              "      <td>NIDC Capital Markets Ltd.</td>\n",
              "      <td>Mutual Fund</td>\n",
              "      <td>100</td>\n",
              "      <td>28/07/1993</td>\n",
              "      <td>NaN</td>\n",
              "      <td>NaN</td>\n",
              "    </tr>\n",
              "    <tr>\n",
              "      <th>2</th>\n",
              "      <td>Nepal Share Markets Co. Ltd.</td>\n",
              "      <td>Ordinary Share</td>\n",
              "      <td>4</td>\n",
              "      <td>21/09/1993</td>\n",
              "      <td>NaN</td>\n",
              "      <td>NaN</td>\n",
              "    </tr>\n",
              "    <tr>\n",
              "      <th>3</th>\n",
              "      <td>Himalayan General Insurance Co. Ltd.</td>\n",
              "      <td>Ordinary Share</td>\n",
              "      <td>12</td>\n",
              "      <td>28/09/1993</td>\n",
              "      <td>NaN</td>\n",
              "      <td>NaN</td>\n",
              "    </tr>\n",
              "    <tr>\n",
              "      <th>4</th>\n",
              "      <td>Harisiddhi Brick &amp; Tiles Factory Ltd.</td>\n",
              "      <td>Ordinary Share</td>\n",
              "      <td>53.2</td>\n",
              "      <td>1993/12/12</td>\n",
              "      <td>NaN</td>\n",
              "      <td>NaN</td>\n",
              "    </tr>\n",
              "  </tbody>\n",
              "</table>\n",
              "</div>"
            ],
            "text/plain": [
              "                                 Company  ... Date\n",
              "0                         Nepal Med Ltd.  ...  NaN\n",
              "1              NIDC Capital Markets Ltd.  ...  NaN\n",
              "2           Nepal Share Markets Co. Ltd.  ...  NaN\n",
              "3   Himalayan General Insurance Co. Ltd.  ...  NaN\n",
              "4  Harisiddhi Brick & Tiles Factory Ltd.  ...  NaN\n",
              "\n",
              "[5 rows x 6 columns]"
            ]
          },
          "metadata": {
            "tags": []
          },
          "execution_count": 136
        }
      ]
    },
    {
      "cell_type": "code",
      "metadata": {
        "id": "oN_yCgDItZ9I",
        "colab_type": "code",
        "outputId": "86c9ab13-4cd1-443c-914c-86b760b8153e",
        "colab": {
          "base_uri": "https://localhost:8080/",
          "height": 204
        }
      },
      "source": [
        "for i in range(df_ntis.shape[0]):\n",
        "    if str(df_ntis['Date'].iloc[i]) == 'nan':\n",
        "        df_ntis['Date'].iloc[i] = df_ntis['Permission AD Date'].iloc[i]\n",
        "\n",
        "df_ntis = df_ntis.drop(columns=['Company', 'Permission AD Date','Permission BS Date'])\n",
        "df_ntis = df_ntis.dropna()\n",
        "df_ntis['Date'] = pd.to_datetime(df_ntis['Date'])\n",
        "df_ntis.head()"
      ],
      "execution_count": 0,
      "outputs": [
        {
          "output_type": "execute_result",
          "data": {
            "text/html": [
              "<div>\n",
              "<style scoped>\n",
              "    .dataframe tbody tr th:only-of-type {\n",
              "        vertical-align: middle;\n",
              "    }\n",
              "\n",
              "    .dataframe tbody tr th {\n",
              "        vertical-align: top;\n",
              "    }\n",
              "\n",
              "    .dataframe thead th {\n",
              "        text-align: right;\n",
              "    }\n",
              "</style>\n",
              "<table border=\"1\" class=\"dataframe\">\n",
              "  <thead>\n",
              "    <tr style=\"text-align: right;\">\n",
              "      <th></th>\n",
              "      <th>Type</th>\n",
              "      <th>Amount</th>\n",
              "      <th>Date</th>\n",
              "    </tr>\n",
              "  </thead>\n",
              "  <tbody>\n",
              "    <tr>\n",
              "      <th>0</th>\n",
              "      <td>Ordinary Share</td>\n",
              "      <td>2.7</td>\n",
              "      <td>1993-07-28</td>\n",
              "    </tr>\n",
              "    <tr>\n",
              "      <th>1</th>\n",
              "      <td>Mutual Fund</td>\n",
              "      <td>100</td>\n",
              "      <td>1993-07-28</td>\n",
              "    </tr>\n",
              "    <tr>\n",
              "      <th>2</th>\n",
              "      <td>Ordinary Share</td>\n",
              "      <td>4</td>\n",
              "      <td>1993-09-21</td>\n",
              "    </tr>\n",
              "    <tr>\n",
              "      <th>3</th>\n",
              "      <td>Ordinary Share</td>\n",
              "      <td>12</td>\n",
              "      <td>1993-09-28</td>\n",
              "    </tr>\n",
              "    <tr>\n",
              "      <th>4</th>\n",
              "      <td>Ordinary Share</td>\n",
              "      <td>53.2</td>\n",
              "      <td>1993-12-12</td>\n",
              "    </tr>\n",
              "  </tbody>\n",
              "</table>\n",
              "</div>"
            ],
            "text/plain": [
              "             Type Amount       Date\n",
              "0  Ordinary Share    2.7 1993-07-28\n",
              "1     Mutual Fund    100 1993-07-28\n",
              "2  Ordinary Share      4 1993-09-21\n",
              "3  Ordinary Share     12 1993-09-28\n",
              "4  Ordinary Share   53.2 1993-12-12"
            ]
          },
          "metadata": {
            "tags": []
          },
          "execution_count": 137
        }
      ]
    },
    {
      "cell_type": "code",
      "metadata": {
        "id": "qKIZoPx2u364",
        "colab_type": "code",
        "outputId": "c286449e-4dc0-40bc-bd16-1ca2078e08c4",
        "colab": {
          "base_uri": "https://localhost:8080/",
          "height": 102
        }
      },
      "source": [
        "df_ntis['Type'].unique()"
      ],
      "execution_count": 0,
      "outputs": [
        {
          "output_type": "execute_result",
          "data": {
            "text/plain": [
              "array(['Ordinary Share', 'Mutual Fund', 'Preference Share', 'Unit Scheme',\n",
              "       'Rights Share', 'Debenture', 'Ordinary Share (not issued)',\n",
              "       'Ordinary Share (Not issued)', 'Pref. Share', 'Rights Shares',\n",
              "       'Ordinary', 'Rights', 'Ordinary Shares', 'Share', 'Bonus', 'Units',\n",
              "       'Unit', 'Promoter', 'Debentures'], dtype=object)"
            ]
          },
          "metadata": {
            "tags": []
          },
          "execution_count": 138
        }
      ]
    },
    {
      "cell_type": "code",
      "metadata": {
        "id": "rm1LApg8xA4I",
        "colab_type": "code",
        "colab": {}
      },
      "source": [
        "# Only picking the issued shares\n",
        "shares_labels = ['Ordinary Share', 'Preference Share', \n",
        "                'Rights Share', 'Pref. Share', 'Rights Shares',\n",
        "                'Ordinary', 'Rights', 'Ordinary Shares', 'Share', \n",
        "                'Bonus', 'Promoter']\n",
        "df_ntis_equity = df_ntis[df_ntis['Type'].isin(shares_labels)]"
      ],
      "execution_count": 0,
      "outputs": []
    },
    {
      "cell_type": "code",
      "metadata": {
        "id": "s3FxDWJN3ZXq",
        "colab_type": "code",
        "outputId": "284259ae-bd57-4278-9291-6c475892d760",
        "colab": {
          "base_uri": "https://localhost:8080/",
          "height": 428
        }
      },
      "source": [
        "def get_monthly_issues(df, year, month):\n",
        "    df_month = df.loc[(df['year']==year) & (df['month']==month)]\n",
        "    return df_month['Date'].iloc[-1], np.sum(df_month['Amount'])\n",
        " \n",
        "df_ntis_equity['year'] = df_ntis_equity['Date'].apply(get_year)\n",
        "df_ntis_equity['month'] = df_ntis_equity['Date'].apply(get_month)\n",
        "ntis_equity_unique_months = df_ntis_equity.groupby(['year','month'], as_index=False).size().reset_index().rename(columns={0:'count'})\n",
        "\n",
        "ntis_equity_issues = []\n",
        "dates = []\n",
        "\n",
        "for i in range(ntis_equity_unique_months.shape[0]):\n",
        "    date, ntis_equity_issue  = get_monthly_issues(df_ntis_equity,\n",
        "                                                        ntis_equity_unique_months.iloc[i].year, \n",
        "                                                        ntis_equity_unique_months.iloc[i].month)\n",
        "    dates.append(date)\n",
        "    ntis_equity_issues.append(ntis_equity_issue)\n",
        "\n",
        "\n",
        "df_monthly_ntis_equity = pd.DataFrame({\n",
        "    'Date': dates,\n",
        "    'ntis_equity_issues': ntis_equity_issues\n",
        "})\n",
        "df_monthly_ntis_equity.head()"
      ],
      "execution_count": 0,
      "outputs": [
        {
          "output_type": "stream",
          "text": [
            "/usr/local/lib/python3.6/dist-packages/ipykernel_launcher.py:5: SettingWithCopyWarning: \n",
            "A value is trying to be set on a copy of a slice from a DataFrame.\n",
            "Try using .loc[row_indexer,col_indexer] = value instead\n",
            "\n",
            "See the caveats in the documentation: http://pandas.pydata.org/pandas-docs/stable/user_guide/indexing.html#returning-a-view-versus-a-copy\n",
            "  \"\"\"\n",
            "/usr/local/lib/python3.6/dist-packages/ipykernel_launcher.py:6: SettingWithCopyWarning: \n",
            "A value is trying to be set on a copy of a slice from a DataFrame.\n",
            "Try using .loc[row_indexer,col_indexer] = value instead\n",
            "\n",
            "See the caveats in the documentation: http://pandas.pydata.org/pandas-docs/stable/user_guide/indexing.html#returning-a-view-versus-a-copy\n",
            "  \n"
          ],
          "name": "stderr"
        },
        {
          "output_type": "execute_result",
          "data": {
            "text/html": [
              "<div>\n",
              "<style scoped>\n",
              "    .dataframe tbody tr th:only-of-type {\n",
              "        vertical-align: middle;\n",
              "    }\n",
              "\n",
              "    .dataframe tbody tr th {\n",
              "        vertical-align: top;\n",
              "    }\n",
              "\n",
              "    .dataframe thead th {\n",
              "        text-align: right;\n",
              "    }\n",
              "</style>\n",
              "<table border=\"1\" class=\"dataframe\">\n",
              "  <thead>\n",
              "    <tr style=\"text-align: right;\">\n",
              "      <th></th>\n",
              "      <th>Date</th>\n",
              "      <th>ntis_equity_issues</th>\n",
              "    </tr>\n",
              "  </thead>\n",
              "  <tbody>\n",
              "    <tr>\n",
              "      <th>0</th>\n",
              "      <td>1993-07-28</td>\n",
              "      <td>2.7</td>\n",
              "    </tr>\n",
              "    <tr>\n",
              "      <th>1</th>\n",
              "      <td>1993-09-28</td>\n",
              "      <td>412</td>\n",
              "    </tr>\n",
              "    <tr>\n",
              "      <th>2</th>\n",
              "      <td>1993-12-30</td>\n",
              "      <td>53.21813.8</td>\n",
              "    </tr>\n",
              "    <tr>\n",
              "      <th>3</th>\n",
              "      <td>1994-01-30</td>\n",
              "      <td>24</td>\n",
              "    </tr>\n",
              "    <tr>\n",
              "      <th>4</th>\n",
              "      <td>1994-02-22</td>\n",
              "      <td>36</td>\n",
              "    </tr>\n",
              "  </tbody>\n",
              "</table>\n",
              "</div>"
            ],
            "text/plain": [
              "        Date ntis_equity_issues\n",
              "0 1993-07-28                2.7\n",
              "1 1993-09-28                412\n",
              "2 1993-12-30         53.21813.8\n",
              "3 1994-01-30                 24\n",
              "4 1994-02-22                 36"
            ]
          },
          "metadata": {
            "tags": []
          },
          "execution_count": 176
        }
      ]
    },
    {
      "cell_type": "code",
      "metadata": {
        "id": "sXqSOKZM4CnG",
        "colab_type": "code",
        "colab": {}
      },
      "source": [
        ""
      ],
      "execution_count": 0,
      "outputs": []
    },
    {
      "cell_type": "markdown",
      "metadata": {
        "id": "7Gt6Bpec3aEy",
        "colab_type": "text"
      },
      "source": [
        "#### Calculating total market capitalization annually"
      ]
    },
    {
      "cell_type": "code",
      "metadata": {
        "colab_type": "code",
        "outputId": "fe109266-8527-49ea-80b0-3cd462628084",
        "id": "617433c_LLYu",
        "colab": {
          "base_uri": "https://localhost:8080/",
          "height": 419
        }
      },
      "source": [
        "# Getting the total capitalization data\n",
        "url = 'nepal_stock_capitalization_1995-2019.csv'\n",
        "df_capitalization = pd.read_csv(url, skiprows=2)\n",
        "df_capitalization = df_capitalization.drop(columns=['Ticker'])\n",
        "df_capitalization.columns = ['Date', 'Market Capitalization']\n",
        "df_capitalization['Date'] = pd.to_datetime(df_capitalization['Date'])\n",
        "\n",
        "df_capitalization"
      ],
      "execution_count": 0,
      "outputs": [
        {
          "output_type": "execute_result",
          "data": {
            "text/html": [
              "<div>\n",
              "<style scoped>\n",
              "    .dataframe tbody tr th:only-of-type {\n",
              "        vertical-align: middle;\n",
              "    }\n",
              "\n",
              "    .dataframe tbody tr th {\n",
              "        vertical-align: top;\n",
              "    }\n",
              "\n",
              "    .dataframe thead th {\n",
              "        text-align: right;\n",
              "    }\n",
              "</style>\n",
              "<table border=\"1\" class=\"dataframe\">\n",
              "  <thead>\n",
              "    <tr style=\"text-align: right;\">\n",
              "      <th></th>\n",
              "      <th>Date</th>\n",
              "      <th>Market Capitalization</th>\n",
              "    </tr>\n",
              "  </thead>\n",
              "  <tbody>\n",
              "    <tr>\n",
              "      <th>0</th>\n",
              "      <td>1994-07-31</td>\n",
              "      <td>13872.0</td>\n",
              "    </tr>\n",
              "    <tr>\n",
              "      <th>1</th>\n",
              "      <td>1995-07-31</td>\n",
              "      <td>12963.0</td>\n",
              "    </tr>\n",
              "    <tr>\n",
              "      <th>2</th>\n",
              "      <td>1996-07-31</td>\n",
              "      <td>12295.0</td>\n",
              "    </tr>\n",
              "    <tr>\n",
              "      <th>3</th>\n",
              "      <td>1997-07-31</td>\n",
              "      <td>12698.0</td>\n",
              "    </tr>\n",
              "    <tr>\n",
              "      <th>4</th>\n",
              "      <td>1998-07-31</td>\n",
              "      <td>14289.0</td>\n",
              "    </tr>\n",
              "    <tr>\n",
              "      <th>...</th>\n",
              "      <td>...</td>\n",
              "      <td>...</td>\n",
              "    </tr>\n",
              "    <tr>\n",
              "      <th>181</th>\n",
              "      <td>2018-07-31</td>\n",
              "      <td>1435137.7</td>\n",
              "    </tr>\n",
              "    <tr>\n",
              "      <th>182</th>\n",
              "      <td>2018-10-31</td>\n",
              "      <td>1481221.4</td>\n",
              "    </tr>\n",
              "    <tr>\n",
              "      <th>183</th>\n",
              "      <td>2019-01-31</td>\n",
              "      <td>1436672.6</td>\n",
              "    </tr>\n",
              "    <tr>\n",
              "      <th>184</th>\n",
              "      <td>2019-04-30</td>\n",
              "      <td>1462507.7</td>\n",
              "    </tr>\n",
              "    <tr>\n",
              "      <th>185</th>\n",
              "      <td>2019-07-31</td>\n",
              "      <td>1567499.4</td>\n",
              "    </tr>\n",
              "  </tbody>\n",
              "</table>\n",
              "<p>186 rows × 2 columns</p>\n",
              "</div>"
            ],
            "text/plain": [
              "          Date  Market Capitalization\n",
              "0   1994-07-31                13872.0\n",
              "1   1995-07-31                12963.0\n",
              "2   1996-07-31                12295.0\n",
              "3   1997-07-31                12698.0\n",
              "4   1998-07-31                14289.0\n",
              "..         ...                    ...\n",
              "181 2018-07-31              1435137.7\n",
              "182 2018-10-31              1481221.4\n",
              "183 2019-01-31              1436672.6\n",
              "184 2019-04-30              1462507.7\n",
              "185 2019-07-31              1567499.4\n",
              "\n",
              "[186 rows x 2 columns]"
            ]
          },
          "metadata": {
            "tags": []
          },
          "execution_count": 161
        }
      ]
    },
    {
      "cell_type": "markdown",
      "metadata": {
        "id": "nG9KVRUFG1gx",
        "colab_type": "text"
      },
      "source": [
        "## Combining Datasets"
      ]
    },
    {
      "cell_type": "code",
      "metadata": {
        "id": "w8Hg0MoB5YJm",
        "colab_type": "code",
        "outputId": "16df6c20-7712-4958-e43c-871520fa553c",
        "colab": {
          "base_uri": "https://localhost:8080/",
          "height": 235
        }
      },
      "source": [
        "def convert_to_string_year_month(date):\n",
        "    return date.strftime('%Y-%m')\n",
        "\n",
        "df_monthly_nepse['Date'] = df_monthly_nepse['Date'].apply(convert_to_string_year_month)\n",
        "df_monthly_treasury['Date'] = df_monthly_treasury['Date'].apply(convert_to_string_year_month)\n",
        "df_monthly_gov_bond['Date'] = df_monthly_gov_bond['Date'].apply(convert_to_string_year_month)\n",
        "df_monthly_inflation['Date'] = df_monthly_inflation['Date'].apply(convert_to_string_year_month)\n",
        "\n",
        "\n",
        "df = df_monthly_nepse\n",
        "df = df.set_index('Date').join(df_monthly_treasury.set_index('Date'))\n",
        "df = df.join(df_monthly_gov_bond.set_index('Date'))\n",
        "df = df.join(df_monthly_inflation.set_index('Date'))\n",
        "df.head()"
      ],
      "execution_count": 0,
      "outputs": [
        {
          "output_type": "execute_result",
          "data": {
            "text/html": [
              "<div>\n",
              "<style scoped>\n",
              "    .dataframe tbody tr th:only-of-type {\n",
              "        vertical-align: middle;\n",
              "    }\n",
              "\n",
              "    .dataframe tbody tr th {\n",
              "        vertical-align: top;\n",
              "    }\n",
              "\n",
              "    .dataframe thead th {\n",
              "        text-align: right;\n",
              "    }\n",
              "</style>\n",
              "<table border=\"1\" class=\"dataframe\">\n",
              "  <thead>\n",
              "    <tr style=\"text-align: right;\">\n",
              "      <th></th>\n",
              "      <th>NEPSE</th>\n",
              "      <th>NEPSE_returns</th>\n",
              "      <th>SVAR</th>\n",
              "      <th>treasury_yields</th>\n",
              "      <th>gov_bond_yield</th>\n",
              "      <th>infl</th>\n",
              "    </tr>\n",
              "    <tr>\n",
              "      <th>Date</th>\n",
              "      <th></th>\n",
              "      <th></th>\n",
              "      <th></th>\n",
              "      <th></th>\n",
              "      <th></th>\n",
              "      <th></th>\n",
              "    </tr>\n",
              "  </thead>\n",
              "  <tbody>\n",
              "    <tr>\n",
              "      <th>1997-07</th>\n",
              "      <td>171.70</td>\n",
              "      <td>0.000000</td>\n",
              "      <td>0.000040</td>\n",
              "      <td>0.0559</td>\n",
              "      <td>0.09</td>\n",
              "      <td>0.009183</td>\n",
              "    </tr>\n",
              "    <tr>\n",
              "      <th>1997-08</th>\n",
              "      <td>169.64</td>\n",
              "      <td>-0.011998</td>\n",
              "      <td>0.000084</td>\n",
              "      <td>0.0434</td>\n",
              "      <td>0.09</td>\n",
              "      <td>0.047316</td>\n",
              "    </tr>\n",
              "    <tr>\n",
              "      <th>1997-09</th>\n",
              "      <td>171.23</td>\n",
              "      <td>0.009373</td>\n",
              "      <td>0.000210</td>\n",
              "      <td>0.0328</td>\n",
              "      <td>0.09</td>\n",
              "      <td>-0.000869</td>\n",
              "    </tr>\n",
              "    <tr>\n",
              "      <th>1997-10</th>\n",
              "      <td>173.43</td>\n",
              "      <td>0.012848</td>\n",
              "      <td>0.000398</td>\n",
              "      <td>0.0427</td>\n",
              "      <td>0.09</td>\n",
              "      <td>0.016522</td>\n",
              "    </tr>\n",
              "    <tr>\n",
              "      <th>1997-11</th>\n",
              "      <td>171.64</td>\n",
              "      <td>-0.010321</td>\n",
              "      <td>0.000181</td>\n",
              "      <td>0.0306</td>\n",
              "      <td>0.09</td>\n",
              "      <td>-0.009410</td>\n",
              "    </tr>\n",
              "  </tbody>\n",
              "</table>\n",
              "</div>"
            ],
            "text/plain": [
              "          NEPSE  NEPSE_returns  ...  gov_bond_yield      infl\n",
              "Date                            ...                          \n",
              "1997-07  171.70       0.000000  ...            0.09  0.009183\n",
              "1997-08  169.64      -0.011998  ...            0.09  0.047316\n",
              "1997-09  171.23       0.009373  ...            0.09 -0.000869\n",
              "1997-10  173.43       0.012848  ...            0.09  0.016522\n",
              "1997-11  171.64      -0.010321  ...            0.09 -0.009410\n",
              "\n",
              "[5 rows x 6 columns]"
            ]
          },
          "metadata": {
            "tags": []
          },
          "execution_count": 200
        }
      ]
    },
    {
      "cell_type": "code",
      "metadata": {
        "id": "K0JdNZMS1sSx",
        "colab_type": "code",
        "colab": {}
      },
      "source": [
        "# Writing down to a csv file\n",
        "df.to_csv('nepse_data.csv')"
      ],
      "execution_count": 0,
      "outputs": []
    },
    {
      "cell_type": "markdown",
      "metadata": {
        "id": "-8sy7jbJg42T",
        "colab_type": "text"
      },
      "source": [
        "# S&P 500"
      ]
    },
    {
      "cell_type": "code",
      "metadata": {
        "id": "iO1imHhlg6_s",
        "colab_type": "code",
        "colab": {}
      },
      "source": [
        "# Creating an array of dates to for plotting purposes\n",
        "def change_to_date_time_string(num_date):\n",
        "    '''\n",
        "        The original data set stores the dates in numbers as format yyyymm, \n",
        "        which has been converted into integer\n",
        "\n",
        "        This function gets the date as integer, and converts into string format of\n",
        "        YYYY-MM-DD, where DD for each date is assumed to be 01\n",
        "    '''\n",
        "    str_date = str(num_date)\n",
        "    remodified_date = '{0}-{1}'.format(str_date[:4], str_date[4:6])\n",
        "    return remodified_date"
      ],
      "execution_count": 0,
      "outputs": []
    },
    {
      "cell_type": "code",
      "metadata": {
        "id": "H2rWqLXLg9mv",
        "colab_type": "code",
        "outputId": "64b36fec-bc4b-4213-ab20-0f99285ad18e",
        "colab": {
          "base_uri": "https://localhost:8080/",
          "height": 70
        }
      },
      "source": [
        "url_data = 'nepse_data.csv'\n",
        "df_nepse = pd.read_csv(url_data)\n",
        "df_nepse = df_nepse.dropna()\n",
        "print(df_nepse.columns)"
      ],
      "execution_count": 0,
      "outputs": [
        {
          "output_type": "stream",
          "text": [
            "Index(['Date', 'indexes', 'returns', 'SVAR', 'treasury_yields',\n",
            "       'gov_bond_yields', 'infl'],\n",
            "      dtype='object')\n"
          ],
          "name": "stdout"
        }
      ]
    },
    {
      "cell_type": "code",
      "metadata": {
        "id": "827_6bnghBoq",
        "colab_type": "code",
        "outputId": "f098d164-6976-4d30-992e-bf571c4855c6",
        "colab": {
          "base_uri": "https://localhost:8080/",
          "height": 217
        }
      },
      "source": [
        "# reading monthly data\n",
        "url_data = 'Returns_handbook_data.xls'\n",
        "df_sp500 = pd.read_excel(url_data, 'Monthly')\n",
        "df_sp500.tail()"
      ],
      "execution_count": 0,
      "outputs": [
        {
          "output_type": "execute_result",
          "data": {
            "text/html": [
              "<div>\n",
              "<style scoped>\n",
              "    .dataframe tbody tr th:only-of-type {\n",
              "        vertical-align: middle;\n",
              "    }\n",
              "\n",
              "    .dataframe tbody tr th {\n",
              "        vertical-align: top;\n",
              "    }\n",
              "\n",
              "    .dataframe thead th {\n",
              "        text-align: right;\n",
              "    }\n",
              "</style>\n",
              "<table border=\"1\" class=\"dataframe\">\n",
              "  <thead>\n",
              "    <tr style=\"text-align: right;\">\n",
              "      <th></th>\n",
              "      <th>yyyymm</th>\n",
              "      <th>Index</th>\n",
              "      <th>D12</th>\n",
              "      <th>E12</th>\n",
              "      <th>b/m</th>\n",
              "      <th>tbl</th>\n",
              "      <th>AAA</th>\n",
              "      <th>BAA</th>\n",
              "      <th>lty</th>\n",
              "      <th>ntis</th>\n",
              "      <th>Rfree</th>\n",
              "      <th>infl</th>\n",
              "      <th>ltr</th>\n",
              "      <th>corpr</th>\n",
              "      <th>svar</th>\n",
              "      <th>csp</th>\n",
              "      <th>CRSP_SPvw</th>\n",
              "      <th>CRSP_SPvwx</th>\n",
              "    </tr>\n",
              "  </thead>\n",
              "  <tbody>\n",
              "    <tr>\n",
              "      <th>1771</th>\n",
              "      <td>201808</td>\n",
              "      <td>2901.52</td>\n",
              "      <td>52.338996</td>\n",
              "      <td>130.39</td>\n",
              "      <td>0.229618</td>\n",
              "      <td>0.0203</td>\n",
              "      <td>0.0388</td>\n",
              "      <td>0.0477</td>\n",
              "      <td>0.0293</td>\n",
              "      <td>-0.021495</td>\n",
              "      <td>0.001692</td>\n",
              "      <td>0.000556</td>\n",
              "      <td>0.0152</td>\n",
              "      <td>0.0058</td>\n",
              "      <td>0.000471</td>\n",
              "      <td>NaN</td>\n",
              "      <td>0.032938</td>\n",
              "      <td>0.030647</td>\n",
              "    </tr>\n",
              "    <tr>\n",
              "      <th>1772</th>\n",
              "      <td>201809</td>\n",
              "      <td>2913.98</td>\n",
              "      <td>52.338996</td>\n",
              "      <td>130.39</td>\n",
              "      <td>0.225335</td>\n",
              "      <td>0.0213</td>\n",
              "      <td>0.0398</td>\n",
              "      <td>0.0488</td>\n",
              "      <td>0.0334</td>\n",
              "      <td>-0.020871</td>\n",
              "      <td>0.001775</td>\n",
              "      <td>0.001162</td>\n",
              "      <td>-0.0518</td>\n",
              "      <td>-0.0120</td>\n",
              "      <td>0.000230</td>\n",
              "      <td>NaN</td>\n",
              "      <td>0.005138</td>\n",
              "      <td>0.003758</td>\n",
              "    </tr>\n",
              "    <tr>\n",
              "      <th>1773</th>\n",
              "      <td>201810</td>\n",
              "      <td>2711.74</td>\n",
              "      <td>53.748178</td>\n",
              "      <td>132.39</td>\n",
              "      <td>0.237380</td>\n",
              "      <td>0.0225</td>\n",
              "      <td>0.0414</td>\n",
              "      <td>0.0507</td>\n",
              "      <td>0.0352</td>\n",
              "      <td>-0.021222</td>\n",
              "      <td>0.001875</td>\n",
              "      <td>0.001767</td>\n",
              "      <td>-0.0204</td>\n",
              "      <td>-0.0323</td>\n",
              "      <td>0.004578</td>\n",
              "      <td>NaN</td>\n",
              "      <td>-0.068409</td>\n",
              "      <td>-0.069492</td>\n",
              "    </tr>\n",
              "    <tr>\n",
              "      <th>1774</th>\n",
              "      <td>201811</td>\n",
              "      <td>2760.17</td>\n",
              "      <td>53.748178</td>\n",
              "      <td>132.39</td>\n",
              "      <td>0.233451</td>\n",
              "      <td>0.0233</td>\n",
              "      <td>0.0422</td>\n",
              "      <td>0.0522</td>\n",
              "      <td>0.0317</td>\n",
              "      <td>-0.024593</td>\n",
              "      <td>0.001942</td>\n",
              "      <td>-0.003349</td>\n",
              "      <td>0.0505</td>\n",
              "      <td>0.0071</td>\n",
              "      <td>0.002838</td>\n",
              "      <td>NaN</td>\n",
              "      <td>0.019980</td>\n",
              "      <td>0.017477</td>\n",
              "    </tr>\n",
              "    <tr>\n",
              "      <th>1775</th>\n",
              "      <td>201812</td>\n",
              "      <td>2506.85</td>\n",
              "      <td>53.748178</td>\n",
              "      <td>132.39</td>\n",
              "      <td>0.255578</td>\n",
              "      <td>0.0237</td>\n",
              "      <td>0.0402</td>\n",
              "      <td>0.0513</td>\n",
              "      <td>0.0284</td>\n",
              "      <td>-0.019217</td>\n",
              "      <td>0.001975</td>\n",
              "      <td>-0.003194</td>\n",
              "      <td>0.0481</td>\n",
              "      <td>0.0370</td>\n",
              "      <td>0.006793</td>\n",
              "      <td>NaN</td>\n",
              "      <td>-0.090928</td>\n",
              "      <td>-0.092457</td>\n",
              "    </tr>\n",
              "  </tbody>\n",
              "</table>\n",
              "</div>"
            ],
            "text/plain": [
              "      yyyymm    Index        D12     E12  ...      svar  csp  CRSP_SPvw  CRSP_SPvwx\n",
              "1771  201808  2901.52  52.338996  130.39  ...  0.000471  NaN   0.032938    0.030647\n",
              "1772  201809  2913.98  52.338996  130.39  ...  0.000230  NaN   0.005138    0.003758\n",
              "1773  201810  2711.74  53.748178  132.39  ...  0.004578  NaN  -0.068409   -0.069492\n",
              "1774  201811  2760.17  53.748178  132.39  ...  0.002838  NaN   0.019980    0.017477\n",
              "1775  201812  2506.85  53.748178  132.39  ...  0.006793  NaN  -0.090928   -0.092457\n",
              "\n",
              "[5 rows x 18 columns]"
            ]
          },
          "metadata": {
            "tags": []
          },
          "execution_count": 19
        }
      ]
    },
    {
      "cell_type": "code",
      "metadata": {
        "id": "_zcXFQ_whDvY",
        "colab_type": "code",
        "outputId": "7d6e24ff-5f36-42fa-b621-db222606d47e",
        "colab": {
          "base_uri": "https://localhost:8080/",
          "height": 406
        }
      },
      "source": [
        "# Equity premium\n",
        "\n",
        "idx_first = 671 # starting data_sp500 1926:11 from the Excel file\n",
        "#  = 1679 # final date 2010:12 from the Excel file\n",
        "\n",
        "dates = np.array(df_sp500.loc[idx_first:, 'yyyymm'])\n",
        "sp500_indexes = np.array(df_sp500.loc[idx_first:, 'Index'])\n",
        "\n",
        "returns = [0] + [((sp500_indexes[i] / sp500_indexes[i-1]) - 1) for i in range(1, len(sp500_indexes)) ]\n",
        "sp500_returns = np.log(1 + np.array(returns).flatten())\n",
        "svar = np.array(df_sp500.loc[idx_first:, 'svar'])\n",
        "# t-bill raate\n",
        "tbl = np.array(df_sp500.loc[idx_first:, 'tbl'])\n",
        "# long-term government bond yield\n",
        "lty = np.array(df_sp500.loc[idx_first:, 'lty'])\n",
        "# term spread\n",
        "tms=lty-tbl\n",
        "# inflation\n",
        "infl = np.array(data_sp500.loc[idx_first:, 'infl'])\n",
        "\n",
        "df_nyse = pd.DataFrame({\n",
        "    'Date': dates,\n",
        "    'indexes': sp500_indexes,\n",
        "    'returns': sp500_returns,\n",
        "    'SVAR': svar,\n",
        "    'treasury_yields': tbl,\n",
        "    'gov_bond_yields': lty,\n",
        "    'infl': infl\n",
        "})\n",
        "df_nyse"
      ],
      "execution_count": 0,
      "outputs": [
        {
          "output_type": "execute_result",
          "data": {
            "text/html": [
              "<div>\n",
              "<style scoped>\n",
              "    .dataframe tbody tr th:only-of-type {\n",
              "        vertical-align: middle;\n",
              "    }\n",
              "\n",
              "    .dataframe tbody tr th {\n",
              "        vertical-align: top;\n",
              "    }\n",
              "\n",
              "    .dataframe thead th {\n",
              "        text-align: right;\n",
              "    }\n",
              "</style>\n",
              "<table border=\"1\" class=\"dataframe\">\n",
              "  <thead>\n",
              "    <tr style=\"text-align: right;\">\n",
              "      <th></th>\n",
              "      <th>Date</th>\n",
              "      <th>indexes</th>\n",
              "      <th>returns</th>\n",
              "      <th>SVAR</th>\n",
              "      <th>treasury_yields</th>\n",
              "      <th>gov_bond_yields</th>\n",
              "      <th>infl</th>\n",
              "    </tr>\n",
              "  </thead>\n",
              "  <tbody>\n",
              "    <tr>\n",
              "      <th>0</th>\n",
              "      <td>192612</td>\n",
              "      <td>13.49</td>\n",
              "      <td>0.000000</td>\n",
              "      <td>0.000465</td>\n",
              "      <td>0.0307</td>\n",
              "      <td>0.0354</td>\n",
              "      <td>0.000000</td>\n",
              "    </tr>\n",
              "    <tr>\n",
              "      <th>1</th>\n",
              "      <td>192701</td>\n",
              "      <td>13.21</td>\n",
              "      <td>-0.020975</td>\n",
              "      <td>0.000470</td>\n",
              "      <td>0.0323</td>\n",
              "      <td>0.0351</td>\n",
              "      <td>-0.011299</td>\n",
              "    </tr>\n",
              "    <tr>\n",
              "      <th>2</th>\n",
              "      <td>192702</td>\n",
              "      <td>13.84</td>\n",
              "      <td>0.046589</td>\n",
              "      <td>0.000287</td>\n",
              "      <td>0.0329</td>\n",
              "      <td>0.0347</td>\n",
              "      <td>-0.005714</td>\n",
              "    </tr>\n",
              "    <tr>\n",
              "      <th>3</th>\n",
              "      <td>192703</td>\n",
              "      <td>13.93</td>\n",
              "      <td>0.006482</td>\n",
              "      <td>0.000924</td>\n",
              "      <td>0.0320</td>\n",
              "      <td>0.0331</td>\n",
              "      <td>-0.005747</td>\n",
              "    </tr>\n",
              "    <tr>\n",
              "      <th>4</th>\n",
              "      <td>192704</td>\n",
              "      <td>14.17</td>\n",
              "      <td>0.017082</td>\n",
              "      <td>0.000603</td>\n",
              "      <td>0.0339</td>\n",
              "      <td>0.0333</td>\n",
              "      <td>0.000000</td>\n",
              "    </tr>\n",
              "    <tr>\n",
              "      <th>...</th>\n",
              "      <td>...</td>\n",
              "      <td>...</td>\n",
              "      <td>...</td>\n",
              "      <td>...</td>\n",
              "      <td>...</td>\n",
              "      <td>...</td>\n",
              "      <td>...</td>\n",
              "    </tr>\n",
              "    <tr>\n",
              "      <th>1100</th>\n",
              "      <td>201808</td>\n",
              "      <td>2901.52</td>\n",
              "      <td>0.029814</td>\n",
              "      <td>0.000471</td>\n",
              "      <td>0.0203</td>\n",
              "      <td>0.0293</td>\n",
              "      <td>0.000556</td>\n",
              "    </tr>\n",
              "    <tr>\n",
              "      <th>1101</th>\n",
              "      <td>201809</td>\n",
              "      <td>2913.98</td>\n",
              "      <td>0.004285</td>\n",
              "      <td>0.000230</td>\n",
              "      <td>0.0213</td>\n",
              "      <td>0.0334</td>\n",
              "      <td>0.001162</td>\n",
              "    </tr>\n",
              "    <tr>\n",
              "      <th>1102</th>\n",
              "      <td>201810</td>\n",
              "      <td>2711.74</td>\n",
              "      <td>-0.071929</td>\n",
              "      <td>0.004578</td>\n",
              "      <td>0.0225</td>\n",
              "      <td>0.0352</td>\n",
              "      <td>0.001767</td>\n",
              "    </tr>\n",
              "    <tr>\n",
              "      <th>1103</th>\n",
              "      <td>201811</td>\n",
              "      <td>2760.17</td>\n",
              "      <td>0.017702</td>\n",
              "      <td>0.002838</td>\n",
              "      <td>0.0233</td>\n",
              "      <td>0.0317</td>\n",
              "      <td>-0.003349</td>\n",
              "    </tr>\n",
              "    <tr>\n",
              "      <th>1104</th>\n",
              "      <td>201812</td>\n",
              "      <td>2506.85</td>\n",
              "      <td>-0.096265</td>\n",
              "      <td>0.006793</td>\n",
              "      <td>0.0237</td>\n",
              "      <td>0.0284</td>\n",
              "      <td>-0.003194</td>\n",
              "    </tr>\n",
              "  </tbody>\n",
              "</table>\n",
              "<p>1105 rows × 7 columns</p>\n",
              "</div>"
            ],
            "text/plain": [
              "        Date  indexes   returns  ...  treasury_yields  gov_bond_yields      infl\n",
              "0     192612    13.49  0.000000  ...           0.0307           0.0354  0.000000\n",
              "1     192701    13.21 -0.020975  ...           0.0323           0.0351 -0.011299\n",
              "2     192702    13.84  0.046589  ...           0.0329           0.0347 -0.005714\n",
              "3     192703    13.93  0.006482  ...           0.0320           0.0331 -0.005747\n",
              "4     192704    14.17  0.017082  ...           0.0339           0.0333  0.000000\n",
              "...      ...      ...       ...  ...              ...              ...       ...\n",
              "1100  201808  2901.52  0.029814  ...           0.0203           0.0293  0.000556\n",
              "1101  201809  2913.98  0.004285  ...           0.0213           0.0334  0.001162\n",
              "1102  201810  2711.74 -0.071929  ...           0.0225           0.0352  0.001767\n",
              "1103  201811  2760.17  0.017702  ...           0.0233           0.0317 -0.003349\n",
              "1104  201812  2506.85 -0.096265  ...           0.0237           0.0284 -0.003194\n",
              "\n",
              "[1105 rows x 7 columns]"
            ]
          },
          "metadata": {
            "tags": []
          },
          "execution_count": 20
        }
      ]
    },
    {
      "cell_type": "code",
      "metadata": {
        "id": "WPpKFpFGhEkc",
        "colab_type": "code",
        "outputId": "7487a287-bf5c-40c2-e441-ce28ec894cda",
        "colab": {
          "base_uri": "https://localhost:8080/",
          "height": 197
        }
      },
      "source": [
        "df_nyse['Date'] = df_nyse['Date'].apply(change_to_date_time_string)\n",
        "df_nyse.tail()"
      ],
      "execution_count": 0,
      "outputs": [
        {
          "output_type": "execute_result",
          "data": {
            "text/html": [
              "<div>\n",
              "<style scoped>\n",
              "    .dataframe tbody tr th:only-of-type {\n",
              "        vertical-align: middle;\n",
              "    }\n",
              "\n",
              "    .dataframe tbody tr th {\n",
              "        vertical-align: top;\n",
              "    }\n",
              "\n",
              "    .dataframe thead th {\n",
              "        text-align: right;\n",
              "    }\n",
              "</style>\n",
              "<table border=\"1\" class=\"dataframe\">\n",
              "  <thead>\n",
              "    <tr style=\"text-align: right;\">\n",
              "      <th></th>\n",
              "      <th>Date</th>\n",
              "      <th>indexes</th>\n",
              "      <th>returns</th>\n",
              "      <th>SVAR</th>\n",
              "      <th>treasury_yields</th>\n",
              "      <th>gov_bond_yields</th>\n",
              "      <th>infl</th>\n",
              "    </tr>\n",
              "  </thead>\n",
              "  <tbody>\n",
              "    <tr>\n",
              "      <th>1100</th>\n",
              "      <td>2018-08</td>\n",
              "      <td>2901.52</td>\n",
              "      <td>0.029814</td>\n",
              "      <td>0.000471</td>\n",
              "      <td>0.0203</td>\n",
              "      <td>0.0293</td>\n",
              "      <td>0.000556</td>\n",
              "    </tr>\n",
              "    <tr>\n",
              "      <th>1101</th>\n",
              "      <td>2018-09</td>\n",
              "      <td>2913.98</td>\n",
              "      <td>0.004285</td>\n",
              "      <td>0.000230</td>\n",
              "      <td>0.0213</td>\n",
              "      <td>0.0334</td>\n",
              "      <td>0.001162</td>\n",
              "    </tr>\n",
              "    <tr>\n",
              "      <th>1102</th>\n",
              "      <td>2018-10</td>\n",
              "      <td>2711.74</td>\n",
              "      <td>-0.071929</td>\n",
              "      <td>0.004578</td>\n",
              "      <td>0.0225</td>\n",
              "      <td>0.0352</td>\n",
              "      <td>0.001767</td>\n",
              "    </tr>\n",
              "    <tr>\n",
              "      <th>1103</th>\n",
              "      <td>2018-11</td>\n",
              "      <td>2760.17</td>\n",
              "      <td>0.017702</td>\n",
              "      <td>0.002838</td>\n",
              "      <td>0.0233</td>\n",
              "      <td>0.0317</td>\n",
              "      <td>-0.003349</td>\n",
              "    </tr>\n",
              "    <tr>\n",
              "      <th>1104</th>\n",
              "      <td>2018-12</td>\n",
              "      <td>2506.85</td>\n",
              "      <td>-0.096265</td>\n",
              "      <td>0.006793</td>\n",
              "      <td>0.0237</td>\n",
              "      <td>0.0284</td>\n",
              "      <td>-0.003194</td>\n",
              "    </tr>\n",
              "  </tbody>\n",
              "</table>\n",
              "</div>"
            ],
            "text/plain": [
              "         Date  indexes   returns  ...  treasury_yields  gov_bond_yields      infl\n",
              "1100  2018-08  2901.52  0.029814  ...           0.0203           0.0293  0.000556\n",
              "1101  2018-09  2913.98  0.004285  ...           0.0213           0.0334  0.001162\n",
              "1102  2018-10  2711.74 -0.071929  ...           0.0225           0.0352  0.001767\n",
              "1103  2018-11  2760.17  0.017702  ...           0.0233           0.0317 -0.003349\n",
              "1104  2018-12  2506.85 -0.096265  ...           0.0237           0.0284 -0.003194\n",
              "\n",
              "[5 rows x 7 columns]"
            ]
          },
          "metadata": {
            "tags": []
          },
          "execution_count": 21
        }
      ]
    },
    {
      "cell_type": "code",
      "metadata": {
        "id": "MEH2iWNcaXnf",
        "colab_type": "code",
        "outputId": "e5ac7115-8ea4-4de5-8888-9b643104c99f",
        "colab": {
          "base_uri": "https://localhost:8080/",
          "height": 197
        }
      },
      "source": [
        "df_nyse_x_nepse = df_nyse[df_nyse['Date'].isin(data_nepse['Date'])]\n",
        "df_nyse_x_nepse.head()"
      ],
      "execution_count": 0,
      "outputs": [
        {
          "output_type": "execute_result",
          "data": {
            "text/html": [
              "<div>\n",
              "<style scoped>\n",
              "    .dataframe tbody tr th:only-of-type {\n",
              "        vertical-align: middle;\n",
              "    }\n",
              "\n",
              "    .dataframe tbody tr th {\n",
              "        vertical-align: top;\n",
              "    }\n",
              "\n",
              "    .dataframe thead th {\n",
              "        text-align: right;\n",
              "    }\n",
              "</style>\n",
              "<table border=\"1\" class=\"dataframe\">\n",
              "  <thead>\n",
              "    <tr style=\"text-align: right;\">\n",
              "      <th></th>\n",
              "      <th>Date</th>\n",
              "      <th>indexes</th>\n",
              "      <th>returns</th>\n",
              "      <th>SVAR</th>\n",
              "      <th>treasury_yields</th>\n",
              "      <th>gov_bond_yields</th>\n",
              "      <th>infl</th>\n",
              "    </tr>\n",
              "  </thead>\n",
              "  <tbody>\n",
              "    <tr>\n",
              "      <th>847</th>\n",
              "      <td>1997-07</td>\n",
              "      <td>954.29</td>\n",
              "      <td>0.075222</td>\n",
              "      <td>0.002010</td>\n",
              "      <td>0.0505</td>\n",
              "      <td>0.0637</td>\n",
              "      <td>0.001248</td>\n",
              "    </tr>\n",
              "    <tr>\n",
              "      <th>848</th>\n",
              "      <td>1997-08</td>\n",
              "      <td>899.47</td>\n",
              "      <td>-0.059162</td>\n",
              "      <td>0.002465</td>\n",
              "      <td>0.0514</td>\n",
              "      <td>0.0672</td>\n",
              "      <td>0.001869</td>\n",
              "    </tr>\n",
              "    <tr>\n",
              "      <th>849</th>\n",
              "      <td>1997-09</td>\n",
              "      <td>947.28</td>\n",
              "      <td>0.051789</td>\n",
              "      <td>0.002627</td>\n",
              "      <td>0.0495</td>\n",
              "      <td>0.0649</td>\n",
              "      <td>0.002488</td>\n",
              "    </tr>\n",
              "    <tr>\n",
              "      <th>850</th>\n",
              "      <td>1997-10</td>\n",
              "      <td>914.62</td>\n",
              "      <td>-0.035086</td>\n",
              "      <td>0.009364</td>\n",
              "      <td>0.0497</td>\n",
              "      <td>0.0623</td>\n",
              "      <td>0.002481</td>\n",
              "    </tr>\n",
              "    <tr>\n",
              "      <th>851</th>\n",
              "      <td>1997-11</td>\n",
              "      <td>955.40</td>\n",
              "      <td>0.043621</td>\n",
              "      <td>0.002662</td>\n",
              "      <td>0.0514</td>\n",
              "      <td>0.0614</td>\n",
              "      <td>-0.000619</td>\n",
              "    </tr>\n",
              "  </tbody>\n",
              "</table>\n",
              "</div>"
            ],
            "text/plain": [
              "        Date  indexes   returns  ...  treasury_yields  gov_bond_yields      infl\n",
              "847  1997-07   954.29  0.075222  ...           0.0505           0.0637  0.001248\n",
              "848  1997-08   899.47 -0.059162  ...           0.0514           0.0672  0.001869\n",
              "849  1997-09   947.28  0.051789  ...           0.0495           0.0649  0.002488\n",
              "850  1997-10   914.62 -0.035086  ...           0.0497           0.0623  0.002481\n",
              "851  1997-11   955.40  0.043621  ...           0.0514           0.0614 -0.000619\n",
              "\n",
              "[5 rows x 7 columns]"
            ]
          },
          "metadata": {
            "tags": []
          },
          "execution_count": 22
        }
      ]
    },
    {
      "cell_type": "code",
      "metadata": {
        "id": "eYOAXb-Ma-AH",
        "colab_type": "code",
        "outputId": "df01d932-971c-4c27-8d49-d59f7d8b603a",
        "colab": {
          "base_uri": "https://localhost:8080/",
          "height": 406
        }
      },
      "source": [
        "df_nyse_x_nepse = df_nyse_x_nepse.reset_index()\n",
        "df_nyse_x_nepse = df_nyse_x_nepse.drop(columns=['index'])\n",
        "df_nyse_x_nepse"
      ],
      "execution_count": 0,
      "outputs": [
        {
          "output_type": "execute_result",
          "data": {
            "text/html": [
              "<div>\n",
              "<style scoped>\n",
              "    .dataframe tbody tr th:only-of-type {\n",
              "        vertical-align: middle;\n",
              "    }\n",
              "\n",
              "    .dataframe tbody tr th {\n",
              "        vertical-align: top;\n",
              "    }\n",
              "\n",
              "    .dataframe thead th {\n",
              "        text-align: right;\n",
              "    }\n",
              "</style>\n",
              "<table border=\"1\" class=\"dataframe\">\n",
              "  <thead>\n",
              "    <tr style=\"text-align: right;\">\n",
              "      <th></th>\n",
              "      <th>Date</th>\n",
              "      <th>indexes</th>\n",
              "      <th>returns</th>\n",
              "      <th>SVAR</th>\n",
              "      <th>treasury_yields</th>\n",
              "      <th>gov_bond_yields</th>\n",
              "      <th>infl</th>\n",
              "    </tr>\n",
              "  </thead>\n",
              "  <tbody>\n",
              "    <tr>\n",
              "      <th>0</th>\n",
              "      <td>1997-07</td>\n",
              "      <td>954.29000</td>\n",
              "      <td>0.075222</td>\n",
              "      <td>0.002010</td>\n",
              "      <td>0.0505</td>\n",
              "      <td>0.0637</td>\n",
              "      <td>0.001248</td>\n",
              "    </tr>\n",
              "    <tr>\n",
              "      <th>1</th>\n",
              "      <td>1997-08</td>\n",
              "      <td>899.47000</td>\n",
              "      <td>-0.059162</td>\n",
              "      <td>0.002465</td>\n",
              "      <td>0.0514</td>\n",
              "      <td>0.0672</td>\n",
              "      <td>0.001869</td>\n",
              "    </tr>\n",
              "    <tr>\n",
              "      <th>2</th>\n",
              "      <td>1997-09</td>\n",
              "      <td>947.28000</td>\n",
              "      <td>0.051789</td>\n",
              "      <td>0.002627</td>\n",
              "      <td>0.0495</td>\n",
              "      <td>0.0649</td>\n",
              "      <td>0.002488</td>\n",
              "    </tr>\n",
              "    <tr>\n",
              "      <th>3</th>\n",
              "      <td>1997-10</td>\n",
              "      <td>914.62000</td>\n",
              "      <td>-0.035086</td>\n",
              "      <td>0.009364</td>\n",
              "      <td>0.0497</td>\n",
              "      <td>0.0623</td>\n",
              "      <td>0.002481</td>\n",
              "    </tr>\n",
              "    <tr>\n",
              "      <th>4</th>\n",
              "      <td>1997-11</td>\n",
              "      <td>955.40000</td>\n",
              "      <td>0.043621</td>\n",
              "      <td>0.002662</td>\n",
              "      <td>0.0514</td>\n",
              "      <td>0.0614</td>\n",
              "      <td>-0.000619</td>\n",
              "    </tr>\n",
              "    <tr>\n",
              "      <th>...</th>\n",
              "      <td>...</td>\n",
              "      <td>...</td>\n",
              "      <td>...</td>\n",
              "      <td>...</td>\n",
              "      <td>...</td>\n",
              "      <td>...</td>\n",
              "      <td>...</td>\n",
              "    </tr>\n",
              "    <tr>\n",
              "      <th>206</th>\n",
              "      <td>2014-09</td>\n",
              "      <td>1972.29000</td>\n",
              "      <td>-0.015635</td>\n",
              "      <td>0.000721</td>\n",
              "      <td>0.0002</td>\n",
              "      <td>0.0300</td>\n",
              "      <td>0.000753</td>\n",
              "    </tr>\n",
              "    <tr>\n",
              "      <th>207</th>\n",
              "      <td>2014-10</td>\n",
              "      <td>2018.05000</td>\n",
              "      <td>0.022936</td>\n",
              "      <td>0.002944</td>\n",
              "      <td>0.0002</td>\n",
              "      <td>0.0282</td>\n",
              "      <td>-0.002512</td>\n",
              "    </tr>\n",
              "    <tr>\n",
              "      <th>208</th>\n",
              "      <td>2014-11</td>\n",
              "      <td>2067.56000</td>\n",
              "      <td>0.024237</td>\n",
              "      <td>0.000150</td>\n",
              "      <td>0.0002</td>\n",
              "      <td>0.0264</td>\n",
              "      <td>-0.005399</td>\n",
              "    </tr>\n",
              "    <tr>\n",
              "      <th>209</th>\n",
              "      <td>2014-12</td>\n",
              "      <td>2058.90000</td>\n",
              "      <td>-0.004197</td>\n",
              "      <td>0.001993</td>\n",
              "      <td>0.0003</td>\n",
              "      <td>0.0246</td>\n",
              "      <td>-0.005670</td>\n",
              "    </tr>\n",
              "    <tr>\n",
              "      <th>210</th>\n",
              "      <td>2015-01</td>\n",
              "      <td>1994.98999</td>\n",
              "      <td>-0.031533</td>\n",
              "      <td>0.002227</td>\n",
              "      <td>0.0003</td>\n",
              "      <td>0.0200</td>\n",
              "      <td>-0.004706</td>\n",
              "    </tr>\n",
              "  </tbody>\n",
              "</table>\n",
              "<p>211 rows × 7 columns</p>\n",
              "</div>"
            ],
            "text/plain": [
              "        Date     indexes   returns  ...  treasury_yields  gov_bond_yields      infl\n",
              "0    1997-07   954.29000  0.075222  ...           0.0505           0.0637  0.001248\n",
              "1    1997-08   899.47000 -0.059162  ...           0.0514           0.0672  0.001869\n",
              "2    1997-09   947.28000  0.051789  ...           0.0495           0.0649  0.002488\n",
              "3    1997-10   914.62000 -0.035086  ...           0.0497           0.0623  0.002481\n",
              "4    1997-11   955.40000  0.043621  ...           0.0514           0.0614 -0.000619\n",
              "..       ...         ...       ...  ...              ...              ...       ...\n",
              "206  2014-09  1972.29000 -0.015635  ...           0.0002           0.0300  0.000753\n",
              "207  2014-10  2018.05000  0.022936  ...           0.0002           0.0282 -0.002512\n",
              "208  2014-11  2067.56000  0.024237  ...           0.0002           0.0264 -0.005399\n",
              "209  2014-12  2058.90000 -0.004197  ...           0.0003           0.0246 -0.005670\n",
              "210  2015-01  1994.98999 -0.031533  ...           0.0003           0.0200 -0.004706\n",
              "\n",
              "[211 rows x 7 columns]"
            ]
          },
          "metadata": {
            "tags": []
          },
          "execution_count": 23
        }
      ]
    },
    {
      "cell_type": "code",
      "metadata": {
        "id": "DgNRwXNKhHUm",
        "colab_type": "code",
        "colab": {}
      },
      "source": [
        "df_nyse_x_nepse.to_csv('nyse_data.csv')"
      ],
      "execution_count": 0,
      "outputs": []
    }
  ]
}